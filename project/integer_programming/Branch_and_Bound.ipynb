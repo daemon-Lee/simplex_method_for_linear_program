{
  "nbformat": 4,
  "nbformat_minor": 0,
  "metadata": {
    "colab": {
      "name": "Branch-and-Bound.ipynb",
      "provenance": [],
      "collapsed_sections": [],
      "toc_visible": true,
      "authorship_tag": "ABX9TyPik48Qho28X6CrdLLpCqYz",
      "include_colab_link": true
    },
    "kernelspec": {
      "name": "python3",
      "display_name": "Python 3"
    }
  },
  "cells": [
    {
      "cell_type": "markdown",
      "metadata": {
        "id": "view-in-github",
        "colab_type": "text"
      },
      "source": [
        "<a href=\"https://colab.research.google.com/github/daemon-Lee/simplex_method_for_linear_program/blob/master/project/integer_programming/Branch_and_Bound.ipynb\" target=\"_parent\"><img src=\"https://colab.research.google.com/assets/colab-badge.svg\" alt=\"Open In Colab\"/></a>"
      ]
    },
    {
      "cell_type": "code",
      "metadata": {
        "id": "yFW81Vnq4NzK",
        "colab_type": "code",
        "colab": {}
      },
      "source": [
        "#@title Copyright 2020 Duy L.Dinh. { display-mode: \"form\" }\n",
        "#@markdown CS1302 HE130655.\n",
        "# Licensed under the Apache License, Version 2.0 (the \"License\");\n",
        "# you may not use this file except in compliance with the License.\n",
        "# You may obtain a copy of the License at\n",
        "\n",
        "#     http://www.apache.org/licenses/LICENSE-2.0\n",
        "\n",
        "# Unless required by applicable law or agreed to in writing, software\n",
        "# distributed under the License is distributed on an \"AS IS\" BASIS,\n",
        "# WITHOUT WARRANTIES OR CONDITIONS OF ANY KIND, either express or implied.\n",
        "# See the License for the specific language governing permissions and\n",
        "# limitations under the License."
      ],
      "execution_count": 1,
      "outputs": []
    },
    {
      "cell_type": "markdown",
      "metadata": {
        "id": "j7WcGxsu4rTb",
        "colab_type": "text"
      },
      "source": [
        "# Branch and Bound"
      ]
    },
    {
      "cell_type": "code",
      "metadata": {
        "id": "vTy7-Te1-UjJ",
        "colab_type": "code",
        "colab": {
          "base_uri": "https://localhost:8080/",
          "height": 34
        },
        "outputId": "6938b9be-9733-4ebb-894a-e61ea8cbae0b"
      },
      "source": [
        "!pip install cplex"
      ],
      "execution_count": 2,
      "outputs": [
        {
          "output_type": "stream",
          "text": [
            "Requirement already satisfied: cplex in /usr/local/lib/python3.6/dist-packages (12.10.0.2)\n"
          ],
          "name": "stdout"
        }
      ]
    },
    {
      "cell_type": "markdown",
      "metadata": {
        "id": "AT_nM_X2l_Br",
        "colab_type": "text"
      },
      "source": [
        "## Implement cplex lib"
      ]
    },
    {
      "cell_type": "code",
      "metadata": {
        "id": "H2RKb6ei4-9s",
        "colab_type": "code",
        "colab": {}
      },
      "source": [
        "import cplex\n",
        "import numpy as np\n",
        "def cplex_lib(A, b, c):\n",
        "    # Input all the data and parameters here\n",
        "    num_constraints = len(A)\n",
        "    num_decision_var = len(c) # - num_constraints\n",
        "    \n",
        "    n = np.arange(0, num_decision_var)[np.newaxis].T\n",
        "\n",
        "    A = A[:,n.T].reshape(num_constraints, num_decision_var).tolist()\n",
        "    b = b.tolist()\n",
        "    c = c[n].T.reshape(len(n)).tolist()\n",
        "\n",
        "    # constraint_type = [\"L\", \"G\", \"E\"] # Less, Greater, Equal\n",
        "    constraint_type = [\"L\"]*num_constraints\n",
        "    # ============================================================\n",
        "\n",
        "    # Establish the Linear Programming Model\n",
        "    myProblem = cplex.Cplex()\n",
        "\n",
        "    # Add the decision variables and set their lower bound and upper bound (if necessary)\n",
        "    myProblem.variables.add(names= [\"x\"+str(i) for i in range(num_decision_var)])\n",
        "    for i in range(num_decision_var):\n",
        "        myProblem.variables.set_lower_bounds(\"x\"+str(i), 0.0)\n",
        "\n",
        "    # Add constraints\n",
        "    for i in range(num_constraints):\n",
        "        myProblem.linear_constraints.add(\n",
        "            lin_expr= [cplex.SparsePair(ind= [j for j in range(num_decision_var)], val= A[i])],\n",
        "            rhs= [b[i]],\n",
        "            names = [\"c\"+str(i)],\n",
        "            senses = [constraint_type[i]]\n",
        "        )\n",
        "\n",
        "    # Add objective function and set its sense\n",
        "    for i in range(num_decision_var):\n",
        "        myProblem.objective.set_linear([(i, c[i])])\n",
        "    myProblem.objective.set_sense(myProblem.objective.sense.maximize)\n",
        "\n",
        "    # Solve the model and print the answer\n",
        "    myProblem.solve()\n",
        "\n",
        "    status = myProblem.solution.get_status_string()\n",
        "    objective = 0\n",
        "    sol = [0]*num_decision_var\n",
        "\n",
        "    if status != 'infeasible':\n",
        "        objective = myProblem.solution.get_objective_value()\n",
        "        sol = myProblem.solution.get_values()\n",
        "\n",
        "    return{\n",
        "        'objective': objective,\n",
        "        'status': status,\n",
        "        'sol': sol\n",
        "    }"
      ],
      "execution_count": 3,
      "outputs": []
    },
    {
      "cell_type": "markdown",
      "metadata": {
        "id": "qSWV5bgomdJp",
        "colab_type": "text"
      },
      "source": [
        "## Define Branch and Bound pipeline"
      ]
    },
    {
      "cell_type": "code",
      "metadata": {
        "id": "F6NjOgNEJq-A",
        "colab_type": "code",
        "colab": {}
      },
      "source": [
        "def add_key(dct1, dct2):\n",
        "    \"\"\"\n",
        "        join two dictionary\n",
        "    \"\"\"\n",
        "    for obj in dct2:\n",
        "        dct1[obj] = dct2[obj] \n",
        "    return dct1\n",
        "\n",
        "def branch_and_bound(A, b, c, depht = 5):\n",
        "    \"\"\"\n",
        "        solve branch and bound using recursive\n",
        "    \"\"\"\n",
        "    int_optimal = {}\n",
        "\n",
        "    if depht == 0:\n",
        "        print(\"stop\")\n",
        "        return int_optimal\n",
        "    else:\n",
        "        depht -= 1\n",
        "\n",
        "    solution = cplex_lib(A, b, c)\n",
        "    # print('here start')\n",
        "    status = solution['status']\n",
        "    \n",
        "    if status.lower() == 'infeasible':\n",
        "        print('here infeasible')\n",
        "        return int_optimal        \n",
        "\n",
        "    # check int for variables\n",
        "    is_int = False\n",
        "    vars = solution['sol']\n",
        "    print(\"here sol\", vars)\n",
        "    is_int = np.array([var == int(var) for var in vars])\n",
        "\n",
        "    if all(is_int):\n",
        "        int_optimal[solution['objective']] = solution['sol']\n",
        "        print(solution['objective'])\n",
        "    else:\n",
        "        not_int = np.where(~is_int)[0][0]\n",
        "        floor = np.floor(vars[not_int])\n",
        "        ceil = np.ceil(vars[not_int])\n",
        "        \n",
        "        # search left\n",
        "        left = b.copy()\n",
        "        ## update lower bound\n",
        "        left[-2*len(c) + not_int] = floor\n",
        "        print(\"enter left:\", left)\n",
        "        int_optimal = add_key(int_optimal, branch_and_bound(A, left, c, depht))\n",
        "\n",
        "        # search right\n",
        "        right = b.copy()\n",
        "        ## update uppper bound\n",
        "        right[-len(c) + not_int] = -ceil\n",
        "        print(\"enter right:\", right)\n",
        "        int_optimal = add_key(int_optimal, branch_and_bound(A, right, c, depht))\n",
        "\n",
        "    return int_optimal\n",
        "\n",
        "def integer_solutions(A, b, c):\n",
        "    \"\"\"\n",
        "        integer_solutions: get max optimal value with integer variables\n",
        "    \"\"\"\n",
        "    int_optimal = branch_and_bound(A, b, c, depht=5)\n",
        "    try:\n",
        "        max_optimal = max(int_optimal.keys())\n",
        "        return {\"int_optimal\":max_optimal,\n",
        "                \"vars\":int_optimal[max_optimal]}\n",
        "    except:\n",
        "        return {\"int_optimal\":'NA',\n",
        "                \"vars\":'NA'}"
      ],
      "execution_count": 4,
      "outputs": []
    },
    {
      "cell_type": "markdown",
      "metadata": {
        "id": "PqKXWrawmLpc",
        "colab_type": "text"
      },
      "source": [
        "## Example to solve Integer programming"
      ]
    },
    {
      "cell_type": "code",
      "metadata": {
        "id": "Opglolai-YsO",
        "colab_type": "code",
        "colab": {}
      },
      "source": [
        "# A will contain the coefficients of the constraints\n",
        "A = np.array([[ 2, 4],\n",
        "              [ 1,  0],\n",
        "              [ 0,  1],\n",
        "              [-1,  0],\n",
        "              [ 0, -1]])\n",
        "\n",
        "# b will contain the amount of resources\n",
        "b = np.array([25, 8, 5, 0, 0])\n",
        "\n",
        "# c will contain coefficients of objective function Z\n",
        "c = np.array([3,5])"
      ],
      "execution_count": 5,
      "outputs": []
    },
    {
      "cell_type": "code",
      "metadata": {
        "id": "-Sh9ctVxnhla",
        "colab_type": "code",
        "colab": {
          "base_uri": "https://localhost:8080/",
          "height": 1000
        },
        "outputId": "3a566c3b-f03f-421c-fae9-0dce354ff542"
      },
      "source": [
        "integer_solutions(A, b, c)"
      ],
      "execution_count": 6,
      "outputs": [
        {
          "output_type": "stream",
          "text": [
            "Version identifier: 12.10.0.0 | 2019-11-27 | 843d4de\n",
            "CPXPARAM_Read_DataCheck                          1\n",
            "Tried aggregator 1 time.\n",
            "LP Presolve eliminated 4 rows and 0 columns.\n",
            "Reduced LP has 1 rows, 2 columns, and 2 nonzeros.\n",
            "Presolve time = 0.00 sec. (0.00 ticks)\n",
            "\n",
            "Iteration log . . .\n",
            "Iteration:     1   Dual objective     =            35.250000\n",
            "here sol [8.0, 2.25]\n",
            "enter left: [25  8  2  0  0]\n",
            "Version identifier: 12.10.0.0 | 2019-11-27 | 843d4de\n",
            "CPXPARAM_Read_DataCheck                          1\n",
            "Tried aggregator 1 time.\n",
            "LP Presolve eliminated 5 rows and 2 columns.\n",
            "All rows and columns eliminated.\n",
            "Presolve time = 0.00 sec. (0.00 ticks)\n",
            "here sol [8.0, 2.0]\n",
            "34.0\n",
            "enter right: [25  8  5  0 -3]\n",
            "Version identifier: 12.10.0.0 | 2019-11-27 | 843d4de\n",
            "CPXPARAM_Read_DataCheck                          1\n",
            "Tried aggregator 1 time.\n",
            "LP Presolve eliminated 5 rows and 2 columns.\n",
            "All rows and columns eliminated.\n",
            "Presolve time = 0.00 sec. (0.00 ticks)\n",
            "here sol [6.5, 3.0]\n",
            "enter left: [25  6  5  0 -3]\n",
            "Version identifier: 12.10.0.0 | 2019-11-27 | 843d4de\n",
            "CPXPARAM_Read_DataCheck                          1\n",
            "Tried aggregator 1 time.\n",
            "LP Presolve eliminated 4 rows and 0 columns.\n",
            "Reduced LP has 1 rows, 2 columns, and 2 nonzeros.\n",
            "Presolve time = 0.00 sec. (0.00 ticks)\n",
            "\n",
            "Iteration log . . .\n",
            "Iteration:     1   Dual objective     =            34.250000\n",
            "here sol [6.0, 3.25]\n",
            "enter left: [25  6  3  0 -3]\n",
            "Version identifier: 12.10.0.0 | 2019-11-27 | 843d4de\n",
            "CPXPARAM_Read_DataCheck                          1\n",
            "Tried aggregator 1 time.\n",
            "LP Presolve eliminated 5 rows and 2 columns.\n",
            "All rows and columns eliminated.\n",
            "Presolve time = 0.00 sec. (0.00 ticks)\n",
            "here sol [6.0, 3.0]\n",
            "33.0\n",
            "enter right: [25  6  5  0 -4]\n",
            "Version identifier: 12.10.0.0 | 2019-11-27 | 843d4de\n",
            "CPXPARAM_Read_DataCheck                          1\n",
            "Tried aggregator 1 time.\n",
            "LP Presolve eliminated 5 rows and 2 columns.\n",
            "All rows and columns eliminated.\n",
            "Presolve time = 0.00 sec. (0.00 ticks)\n",
            "here sol [4.5, 4.0]\n",
            "enter left: [25  4  5  0 -4]\n",
            "Version identifier: 12.10.0.0 | 2019-11-27 | 843d4de\n",
            "CPXPARAM_Read_DataCheck                          1\n",
            "Tried aggregator 1 time.\n",
            "LP Presolve eliminated 4 rows and 0 columns.\n",
            "Reduced LP has 1 rows, 2 columns, and 2 nonzeros.\n",
            "Presolve time = 0.00 sec. (0.00 ticks)\n",
            "\n",
            "Iteration log . . .\n",
            "Iteration:     1   Dual objective     =            33.250000\n",
            "here sol [4.0, 4.25]\n",
            "enter left: [25  4  4  0 -4]\n",
            "stop\n",
            "enter right: [25  4  5  0 -5]\n",
            "stop\n",
            "enter right: [25  6  5 -5 -4]\n",
            "Version identifier: 12.10.0.0 | 2019-11-27 | 843d4de\n",
            "CPXPARAM_Read_DataCheck                          1\n",
            "Row 'c0' infeasible, all entries at implied bounds.\n",
            "Presolve time = 0.00 sec. (0.00 ticks)\n",
            "here infeasible\n",
            "enter right: [25  8  5 -7 -3]\n",
            "Version identifier: 12.10.0.0 | 2019-11-27 | 843d4de\n",
            "CPXPARAM_Read_DataCheck                          1\n",
            "Row 'c0' infeasible, all entries at implied bounds.\n",
            "Presolve time = 0.00 sec. (0.00 ticks)\n",
            "here infeasible\n"
          ],
          "name": "stdout"
        },
        {
          "output_type": "execute_result",
          "data": {
            "text/plain": [
              "{'int_optimal': 34.0, 'vars': [8.0, 2.0]}"
            ]
          },
          "metadata": {
            "tags": []
          },
          "execution_count": 6
        }
      ]
    },
    {
      "cell_type": "markdown",
      "metadata": {
        "id": "PrA2QFA1uvDA",
        "colab_type": "text"
      },
      "source": [
        "# Solve by cplex tool"
      ]
    },
    {
      "cell_type": "code",
      "metadata": {
        "id": "Hoz6NpZ9oTkm",
        "colab_type": "code",
        "colab": {}
      },
      "source": [
        "import cplex\n",
        "import numpy as np\n",
        "def cplex_int_lib(A, b, c):\n",
        "    # Input all the data and parameters here\n",
        "    num_constraints = len(A)\n",
        "    num_decision_var = len(c) # - num_constraints\n",
        "    \n",
        "    n = np.arange(0, num_decision_var)[np.newaxis].T\n",
        "\n",
        "    A = A[:,n.T].reshape(num_constraints, num_decision_var).tolist()\n",
        "    b = b.tolist()\n",
        "    c = c[n].T.reshape(len(n)).tolist()\n",
        "\n",
        "    # constraint_type = [\"L\", \"G\", \"E\"] # Less, Greater, Equal\n",
        "    constraint_type = [\"L\"]*num_constraints\n",
        "    # ============================================================\n",
        "\n",
        "    # Establish the Linear Programming Model\n",
        "    myProblem = cplex.Cplex()\n",
        "\n",
        "    # Add the decision variables and set their lower bound and upper bound (if necessary)\n",
        "    myProblem.variables.add(names= [\"x\"+str(i) for i in range(num_decision_var)],\n",
        "                            types = [myProblem.variables.type.integer for i in range(num_decision_var)])\n",
        "    for i in range(num_decision_var):\n",
        "        myProblem.variables.set_lower_bounds(\"x\"+str(i), 0.0)\n",
        "\n",
        "    # Add constraints\n",
        "    for i in range(num_constraints):\n",
        "        myProblem.linear_constraints.add(\n",
        "            lin_expr= [cplex.SparsePair(ind= [j for j in range(num_decision_var)], val= A[i])],\n",
        "            rhs= [b[i]],\n",
        "            names = [\"c\"+str(i)],\n",
        "            senses = [constraint_type[i]]\n",
        "        )\n",
        "\n",
        "    # Add objective function and set its sense\n",
        "    for i in range(num_decision_var):\n",
        "        myProblem.objective.set_linear([(i, c[i])])\n",
        "    myProblem.objective.set_sense(myProblem.objective.sense.maximize)\n",
        "\n",
        "    # Solve the model and print the answer\n",
        "    myProblem.solve()\n",
        "\n",
        "    status = myProblem.solution.get_status_string()\n",
        "    objective = 0\n",
        "    sol = [0]*num_decision_var\n",
        "    print(status)\n",
        "    if status != 'integer infeasible':\n",
        "        objective = myProblem.solution.get_objective_value()\n",
        "        sol = myProblem.solution.get_values()\n",
        "\n",
        "    return{\n",
        "        'objective': objective,\n",
        "        'status': status,\n",
        "        'sol': sol\n",
        "    }"
      ],
      "execution_count": 7,
      "outputs": []
    },
    {
      "cell_type": "markdown",
      "metadata": {
        "id": "op1r_yrSEUzE",
        "colab_type": "text"
      },
      "source": [
        "Problem example:\n",
        "\n",
        "$Maximize:\\quad 3\\times x_{1} + 5\\times x_{2}\n",
        "\\\\Subject: \\qquad 2\\times x_{1} + 4\\times x_{2} \\: \\leqslant 25\n",
        "\\\\ \\qquad \\quad \\quad \\qquad \\qquad x_{1} \\qquad \\qquad \\leqslant 8\n",
        "\\\\ \\qquad \\quad \\quad \\qquad \\qquad \\qquad \\qquad x_{2} \\leqslant 5\n",
        "\\\\ \\qquad \\quad \\quad \\qquad \\qquad x_{1} \\qquad \\qquad \\geqslant 0\n",
        "\\\\ \\qquad \\quad \\quad \\qquad \\qquad \\qquad \\qquad x_{2} \\geqslant 0$"
      ]
    },
    {
      "cell_type": "code",
      "metadata": {
        "id": "ueEbSZ5lvR1u",
        "colab_type": "code",
        "colab": {}
      },
      "source": [
        "# A will contain the coefficients of the constraints\n",
        "A = np.array([[ 2,  4],\n",
        "              [ 1,  0],\n",
        "              [ 0,  1],\n",
        "              [-1,  0],\n",
        "              [ 0, -1]])\n",
        "\n",
        "# b will contain the amount of resources\n",
        "b = np.array([25, 8, 5, 0, 0])\n",
        "\n",
        "# c will contain coefficients of objective function Z\n",
        "c = np.array([3,5])"
      ],
      "execution_count": 8,
      "outputs": []
    },
    {
      "cell_type": "code",
      "metadata": {
        "id": "6p-u-dlfvTpr",
        "colab_type": "code",
        "colab": {
          "base_uri": "https://localhost:8080/",
          "height": 663
        },
        "outputId": "5d7c8a3d-3afe-44c1-b757-9fba25f7ea7c"
      },
      "source": [
        "cplex_int_lib(A, b, c)"
      ],
      "execution_count": 9,
      "outputs": [
        {
          "output_type": "stream",
          "text": [
            "Version identifier: 12.10.0.0 | 2019-11-27 | 843d4de\n",
            "CPXPARAM_Read_DataCheck                          1\n",
            "Found incumbent of value 0.000000 after 0.00 sec. (0.00 ticks)\n",
            "Tried aggregator 1 time.\n",
            "MIP Presolve eliminated 5 rows and 0 columns.\n",
            "MIP Presolve added 1 rows and 1 columns.\n",
            "MIP Presolve modified 2 coefficients.\n",
            "Reduced MIP has 1 rows, 3 columns, and 3 nonzeros.\n",
            "Reduced MIP has 0 binaries, 3 generals, 0 SOSs, and 0 indicators.\n",
            "Presolve time = 0.01 sec. (0.00 ticks)\n",
            "Tried aggregator 1 time.\n",
            "MIP Presolve eliminated 1 rows and 1 columns.\n",
            "MIP Presolve added 1 rows and 1 columns.\n",
            "Reduced MIP has 1 rows, 3 columns, and 3 nonzeros.\n",
            "Reduced MIP has 0 binaries, 3 generals, 0 SOSs, and 0 indicators.\n",
            "Presolve time = 0.01 sec. (0.00 ticks)\n",
            "MIP emphasis: balance optimality and feasibility.\n",
            "MIP search method: dynamic search.\n",
            "Parallel mode: deterministic, using up to 2 threads.\n",
            "Root relaxation solution time = 0.00 sec. (0.00 ticks)\n",
            "\n",
            "        Nodes                                         Cuts/\n",
            "   Node  Left     Objective  IInf  Best Integer    Best Bound    ItCnt     Gap\n",
            "\n",
            "*     0+    0                            0.0000       49.0000              --- \n",
            "*     0     0      integral     0       34.0000       34.0000        1    0.00%\n",
            "Elapsed time = 0.04 sec. (0.01 ticks, tree = 0.00 MB, solutions = 2)\n",
            "\n",
            "Root node processing (before b&c):\n",
            "  Real time             =    0.04 sec. (0.01 ticks)\n",
            "Parallel b&c, 2 threads:\n",
            "  Real time             =    0.00 sec. (0.00 ticks)\n",
            "  Sync time (average)   =    0.00 sec.\n",
            "  Wait time (average)   =    0.00 sec.\n",
            "                          ------------\n",
            "Total (root+branch&cut) =    0.04 sec. (0.01 ticks)\n",
            "integer optimal solution\n"
          ],
          "name": "stdout"
        },
        {
          "output_type": "execute_result",
          "data": {
            "text/plain": [
              "{'objective': 34.0, 'sol': [8.0, 2.0], 'status': 'integer optimal solution'}"
            ]
          },
          "metadata": {
            "tags": []
          },
          "execution_count": 9
        }
      ]
    },
    {
      "cell_type": "markdown",
      "metadata": {
        "id": "-BnzhpmHvkdf",
        "colab_type": "text"
      },
      "source": [
        "# Benmark"
      ]
    },
    {
      "cell_type": "markdown",
      "metadata": {
        "id": "C4VabmDr-C5c",
        "colab_type": "text"
      },
      "source": [
        "## Generate problem to compare"
      ]
    },
    {
      "cell_type": "code",
      "metadata": {
        "id": "YHceCaa_v_Is",
        "colab_type": "code",
        "colab": {}
      },
      "source": [
        "def gen_int_problem(n_var, n_contrain):\n",
        "\n",
        "    contrain = np.random.randint(low=-7, high=19, size=(n_var,n_contrain))\n",
        "    lower = np.eye(n_var)\n",
        "    upper = -lower\n",
        "\n",
        "    # A will contain the coefficients of the constraints \n",
        "    A = contrain.T\n",
        "    A = np.concatenate((A,lower), axis=0)\n",
        "    A = np.concatenate((A,upper), axis=0)\n",
        "\n",
        "    # b will contain the amount of resources \n",
        "    b = np.random.randint(low=-7, high=19, size=(n_contrain,))\n",
        "    uc = np.random.randint(low=0, high=19, size=(n_var,))\n",
        "    lc = np.zeros((n_var,))\n",
        "    b = np.concatenate([b,uc])\n",
        "    b = np.concatenate([b,lc])\n",
        "\n",
        "    # c will contain coefficients of objective function Z\n",
        "    c = np.random.randint(low=-7, high=19, size=(n_var,))\n",
        "\n",
        "    return A, b, c"
      ],
      "execution_count": 10,
      "outputs": []
    },
    {
      "cell_type": "code",
      "metadata": {
        "id": "9z_ZmdB2AnEO",
        "colab_type": "code",
        "colab": {}
      },
      "source": [
        "A, b, c = gen_int_problem(2, 1)"
      ],
      "execution_count": 11,
      "outputs": []
    },
    {
      "cell_type": "code",
      "metadata": {
        "id": "E640fkiv6mjT",
        "colab_type": "code",
        "colab": {}
      },
      "source": [
        "#@title Set number of sample\n",
        "n_sample =  100#@param {type:\"integer\"}"
      ],
      "execution_count": 12,
      "outputs": []
    },
    {
      "cell_type": "code",
      "metadata": {
        "id": "bWsuIZT_6i8-",
        "colab_type": "code",
        "colab": {}
      },
      "source": [
        "np.random.seed(2020)\n",
        "A_list = []\n",
        "b_list = []\n",
        "c_list = []\n",
        "for i in range(n_sample):\n",
        "    n_var = np.random.randint(low=2, high=7)\n",
        "    n_contrain = np.random.randint(low=2, high=7)\n",
        "    A, b, c = gen_int_problem(n_var, n_contrain)\n",
        "    A_list.append(A)\n",
        "    b_list.append(b)\n",
        "    c_list.append(c)"
      ],
      "execution_count": 13,
      "outputs": []
    },
    {
      "cell_type": "code",
      "metadata": {
        "id": "9tY7trFLxOgB",
        "colab_type": "code",
        "colab": {}
      },
      "source": [
        "from time import time"
      ],
      "execution_count": 14,
      "outputs": []
    },
    {
      "cell_type": "code",
      "metadata": {
        "id": "sPF0wg-ew8BJ",
        "colab_type": "code",
        "colab": {}
      },
      "source": [
        "%%capture\n",
        "running_time_code = []\n",
        "output_code = []\n",
        "for i in range(n_sample):\n",
        "    start = time()\n",
        "    output_code.append(integer_solutions(A, b, c))\n",
        "    end = time() - start\n",
        "    running_time_code.append(end)"
      ],
      "execution_count": 15,
      "outputs": []
    },
    {
      "cell_type": "code",
      "metadata": {
        "id": "O2Bfhn_b3z4Q",
        "colab_type": "code",
        "colab": {}
      },
      "source": [
        "%%capture\n",
        "running_time_cplex = []\n",
        "output_cplex = []\n",
        "for i in range(n_sample):\n",
        "    start = time()\n",
        "    output_cplex.append(cplex_int_lib(A, b, c))\n",
        "    end = time() - start\n",
        "    running_time_cplex.append(end)"
      ],
      "execution_count": 16,
      "outputs": []
    },
    {
      "cell_type": "code",
      "metadata": {
        "id": "-X09Xnq533DA",
        "colab_type": "code",
        "colab": {}
      },
      "source": [
        "# code\n",
        "mean_code = np.mean(running_time_code)\n",
        "std_code = np.std(running_time_code)\n",
        "\n",
        "# cplex\n",
        "mean_cplex = np.mean(running_time_cplex)\n",
        "std_cplex = np.std(running_time_cplex)"
      ],
      "execution_count": 17,
      "outputs": []
    },
    {
      "cell_type": "markdown",
      "metadata": {
        "id": "8tfFl4nF-oYl",
        "colab_type": "text"
      },
      "source": [
        "## visualization benmark compare"
      ]
    },
    {
      "cell_type": "code",
      "metadata": {
        "id": "SuanIBD94Pgk",
        "colab_type": "code",
        "colab": {
          "base_uri": "https://localhost:8080/",
          "height": 71
        },
        "outputId": "50b4d1bc-14c0-4c2a-e7c1-7a9bf1f184f3"
      },
      "source": [
        "import seaborn as sns; sns.set()\n",
        "import matplotlib.pyplot as plt"
      ],
      "execution_count": 18,
      "outputs": [
        {
          "output_type": "stream",
          "text": [
            "/usr/local/lib/python3.6/dist-packages/statsmodels/tools/_testing.py:19: FutureWarning: pandas.util.testing is deprecated. Use the functions in the public API at pandas.testing instead.\n",
            "  import pandas.util.testing as tm\n"
          ],
          "name": "stderr"
        }
      ]
    },
    {
      "cell_type": "code",
      "metadata": {
        "id": "TUfCM6TR76Uk",
        "colab_type": "code",
        "colab": {
          "base_uri": "https://localhost:8080/",
          "height": 301
        },
        "outputId": "475d107e-9833-485c-dafb-9f21c68710d4"
      },
      "source": [
        "mean = np.array([mean_code, mean_cplex])[np.newaxis]\n",
        "ax = sns.heatmap(mean, annot=True)\n",
        "plt.title(\"Compare mean (s)\")\n",
        "ax.set_xticklabels(['code','cplex'])"
      ],
      "execution_count": 19,
      "outputs": [
        {
          "output_type": "execute_result",
          "data": {
            "text/plain": [
              "[Text(0.5, 0, 'code'), Text(1.5, 0, 'cplex')]"
            ]
          },
          "metadata": {
            "tags": []
          },
          "execution_count": 19
        },
        {
          "output_type": "display_data",
          "data": {
            "image/png": "[encoded data removed]",
            "text/plain": [
              "<Figure size 432x288 with 2 Axes>"
            ]
          },
          "metadata": {
            "tags": []
          }
        }
      ]
    },
    {
      "cell_type": "code",
      "metadata": {
        "id": "IeF8uWhJ8qvP",
        "colab_type": "code",
        "colab": {}
      },
      "source": [
        ""
      ],
      "execution_count": 19,
      "outputs": []
    }
  ]
}