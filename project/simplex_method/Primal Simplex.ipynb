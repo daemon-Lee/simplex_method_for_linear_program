{
 "cells": [
  {
   "cell_type": "code",
   "execution_count": 3,
   "metadata": {},
   "outputs": [],
   "source": [
    "import numpy as np\n",
    "from fractions import Fraction # so that numbers are not displayed in decimal. "
   ]
  },
  {
   "cell_type": "markdown",
   "metadata": {},
   "source": [
    "problem\n",
    "\n",
    "maximize $4x_1 + 3x_2$\n",
    "\n",
    "subject to\n",
    "\n",
    "$x_1 − x_2 ≤ 1$\n",
    "\n",
    "$2x_1 − x_2 ≤ 3$\n",
    "           \n",
    "$x_2 ≤ 5$\n",
    "           \n",
    "$x_1 , x_2 ≥ 0$"
   ]
  },
  {
   "cell_type": "code",
   "execution_count": 53,
   "metadata": {},
   "outputs": [],
   "source": [
    "# inputs \n",
    "\n",
    "# A will contain the coefficients of the constraints \n",
    "A = np.array([[-1,-1, -1, 1, 0],\n",
    "              [2, -1,  1, 0, 1]])\n",
    "\n",
    "\n",
    "# b will contain the amount of resources \n",
    "b = np.array([-2, 1])\n",
    "\n",
    "\n",
    "# c will contain coefficients of objective function Z \n",
    "c = np.array([2, -6, 0, 0, 0])\n",
    "\n",
    "B = np.array([[3], [4]])\n",
    "n = np.array([[0], [1], [2]])"
   ]
  },
  {
   "cell_type": "code",
   "execution_count": 90,
   "metadata": {},
   "outputs": [],
   "source": [
    "# init parameter\n",
    "xb = np.transpose([b]) \n",
    "zn = -c[n]\n",
    "count = 0\n",
    "Bi = A[:,B].reshape((-1,len(B)))\n",
    "#     print(\"Bi\\n\",Bi)\n",
    "N = A[:,n].reshape((-1, len(n)))\n",
    "#     print(\"N\\n\",N)\n"
   ]
  },
  {
   "cell_type": "code",
   "execution_count": 61,
   "metadata": {},
   "outputs": [
    {
     "name": "stdout",
     "output_type": "stream",
     "text": [
      "ok\n"
     ]
    }
   ],
   "source": [
    "if False not in (xb > 0):\n",
    "    print('ok')"
   ]
  },
  {
   "cell_type": "code",
   "execution_count": 62,
   "metadata": {},
   "outputs": [
    {
     "name": "stdout",
     "output_type": "stream",
     "text": [
      "iter: 1\n",
      "Dictionary\n",
      " [[ 0.  1.  1. -1.  1.  0.  0.]\n",
      " [ 3.  1.  0. -1.  2.  1.  0.]\n",
      " [ 4.  5.  0.  1.  0.  0.  1.]]\n",
      "optimal: 4.0\n",
      "iter: 2\n",
      "Dictionary\n",
      " [[ 0.  2.  1.  0.  1. -1.  0.]\n",
      " [ 1.  1.  0.  1.  2. -1.  0.]\n",
      " [ 4.  4.  0.  0.  0.  1.  1.]]\n",
      "optimal: 11.0\n",
      "iter: 3\n",
      "Dictionary\n",
      " [[ 0.  4.  0.  0.  1. -1.  1.]\n",
      " [ 1.  5.  0.  1.  2. -1.  0.]\n",
      " [ 2.  2.  1.  0.  0.  1.  0.]]\n",
      "optimal: 31.0\n",
      "[4. 5. 2. 0. 0.]\n"
     ]
    }
   ],
   "source": [
    "while(np.min(zn) < 0):\n",
    "    \n",
    "    # the most negative of the nonbasic dual\n",
    "    # variables, we see that the entering index is\n",
    "    j = np.argmin(zn)\n",
    "    e = np.zeros((1,len(zn))).T\n",
    "    e[j] = 1\n",
    "#     print(\"ej\\n\",e)\n",
    "    \n",
    "    delta_xb = np.linalg.inv(Bi).dot(N).dot(e)\n",
    "#     print(\"delta_xb\\n\",delta_xb)\n",
    "    \n",
    "    t = np.max(delta_xb/xb)**-1\n",
    "    \n",
    "    i = np.argmax(delta_xb/xb)\n",
    "    e = np.zeros((1,len(xb))).T\n",
    "    e[i] = 1\n",
    "#     print(\"ei\\n\",e)\n",
    "    \n",
    "    delta_zn = -(np.linalg.inv(Bi).dot(N)).T.dot(e)\n",
    "    s = zn[j]/delta_zn[j]\n",
    "    \n",
    "    \n",
    "    xb = xb - t*delta_xb\n",
    "    zn = zn - s*delta_zn\n",
    "    \n",
    "    c_hat = np.zeros(c.shape)\n",
    "    c_hat[B[i]] = s\n",
    "    c_hat[n[j]] = t\n",
    "    \n",
    "    xb[i] = t\n",
    "    zn[j] = s\n",
    "    \n",
    "    \n",
    "    # pivot\n",
    "    pivot = B[i].copy()\n",
    "    B[i] = n[j].copy()\n",
    "    n[j] = pivot\n",
    "    \n",
    "    Bi = A[:,B].reshape((-1,len(B)))\n",
    "#     print(\"Bi\\n\",Bi)\n",
    "    N = A[:,n].reshape((-1, len(n)))\n",
    "#     print(\"N\\n\",N)\n",
    "\n",
    "    A_hat = np.concatenate([B.T,xb.T,N.T,Bi.T]).T\n",
    "    \n",
    "    count += 1\n",
    "    print(\"iter:\", count)\n",
    "    print(\"Dictionary\\n\", A_hat)\n",
    "    print(\"optimal:\", xb.T.dot(c[B]).reshape(-1)[0])\n"
   ]
  },
  {
   "cell_type": "code",
   "execution_count": 65,
   "metadata": {},
   "outputs": [
    {
     "name": "stdout",
     "output_type": "stream",
     "text": [
      "Optimal value: 31.0\n",
      "Solution: [4. 5. 2. 0. 0.]\n"
     ]
    }
   ],
   "source": [
    "result = np.zeros(len(c))\n",
    "result[B] = xb\n",
    "print(\"Optimal value:\",xb.T.dot(c[B]).reshape(-1)[0])\n",
    "print(\"Solution:\",result)"
   ]
  },
  {
   "cell_type": "code",
   "execution_count": 1,
   "metadata": {},
   "outputs": [],
   "source": [
    "def primal_simplex(A, B, n, xb, zn, verbor=False):\n",
    "\n",
    "    count = 0\n",
    "    Bi = A[:,B].reshape((-1,len(B)))\n",
    "    N = A[:,n].reshape((-1, len(n)))\n",
    "\n",
    "    if verbor:\n",
    "        A_hat = np.concatenate([B.T,xb.T,N.T,Bi.T]).T\n",
    "        print(\"Dictionary\\n\", A_hat)\n",
    "\n",
    "    while(np.min(zn) < 0):\n",
    "\n",
    "        j = np.argmin(zn)\n",
    "        e = np.zeros((1,len(zn))).T\n",
    "        e[j] = 1\n",
    "\n",
    "        delta_xb = np.linalg.inv(Bi).dot(N).dot(e)\n",
    "\n",
    "        t = np.max(delta_xb/xb)**-1\n",
    "\n",
    "        i = np.argmax(delta_xb/xb)\n",
    "        e = np.zeros((1,len(xb))).T\n",
    "        e[i] = 1\n",
    "\n",
    "        delta_zn = -(np.linalg.inv(Bi).dot(N)).T.dot(e)\n",
    "        s = zn[j]/delta_zn[j]\n",
    "\n",
    "        xb = xb - t*delta_xb\n",
    "        zn = zn - s*delta_zn\n",
    "\n",
    "        xb[i] = t\n",
    "        zn[j] = s\n",
    "\n",
    "        # pivot swap\n",
    "        pivot = B[i].copy()\n",
    "        B[i] = n[j].copy()\n",
    "        n[j] = pivot\n",
    "\n",
    "        Bi = A[:,B].reshape((-1,len(B)))\n",
    "        N = A[:,n].reshape((-1, len(n)))\n",
    "\n",
    "        count += 1\n",
    "        optimal = xb.T.dot(c[B]).reshape(-1)[0]\n",
    "\n",
    "        if verbor:\n",
    "            A_hat = np.concatenate([B.T,xb.T,N.T,Bi.T]).T\n",
    "            print(\"iter:\", count)\n",
    "            print(\"Dictionary\\n\", A_hat)\n",
    "            print(\"optimal:\", optimal)\n",
    "\n",
    "    sol = np.zeros(len(c))\n",
    "    sol[B] = xb\n",
    "\n",
    "    return {\"iter\": count,\n",
    "            \"optimal\": optimal,\n",
    "            \"sol\": sol}"
   ]
  },
  {
   "cell_type": "code",
   "execution_count": 6,
   "metadata": {},
   "outputs": [],
   "source": [
    "# inputs \n",
    "\n",
    "# A will contain the coefficients of the constraints \n",
    "A = np.array([[1,-1, 1, 0, 0],\n",
    "              [2, -1, 0, 1, 0],\n",
    "              [0, 1, 0, 0, 1]])\n",
    "\n",
    "\n",
    "# b will contain the amount of resources \n",
    "b = np.array([1, 3, 5])\n",
    "\n",
    "\n",
    "# c will contain coefficients of objective function Z \n",
    "c = np.array([4, 3, 0, 0, 0])\n",
    "\n",
    "# B will contain the basic variables that make identity matrix \n",
    "B = np.array([[2], [3], [4]]) \n",
    "n = np.array([[0], [1]])\n",
    "\n",
    "xb = np.transpose([b]) \n",
    "zn = -c[n]"
   ]
  },
  {
   "cell_type": "code",
   "execution_count": 9,
   "metadata": {
    "scrolled": true
   },
   "outputs": [
    {
     "data": {
      "text/plain": [
       "{'iter': 3, 'optimal': 31.0, 'sol': array([4., 5., 2., 0., 0.])}"
      ]
     },
     "execution_count": 9,
     "metadata": {},
     "output_type": "execute_result"
    }
   ],
   "source": [
    "primal_simplex(A.copy(), B.copy(), n.copy(), xb.copy(), zn.copy(), verbor=False)"
   ]
  },
  {
   "cell_type": "code",
   "execution_count": null,
   "metadata": {},
   "outputs": [],
   "source": []
  },
  {
   "cell_type": "code",
   "execution_count": null,
   "metadata": {},
   "outputs": [],
   "source": []
  },
  {
   "cell_type": "code",
   "execution_count": null,
   "metadata": {},
   "outputs": [],
   "source": []
  }
 ],
 "metadata": {
  "kernelspec": {
   "display_name": "Python 3",
   "language": "python",
   "name": "python3"
  },
  "language_info": {
   "codemirror_mode": {
    "name": "ipython",
    "version": 3
   },
   "file_extension": ".py",
   "mimetype": "text/x-python",
   "name": "python",
   "nbconvert_exporter": "python",
   "pygments_lexer": "ipython3",
   "version": "3.7.6"
  }
 },
 "nbformat": 4,
 "nbformat_minor": 4
}
