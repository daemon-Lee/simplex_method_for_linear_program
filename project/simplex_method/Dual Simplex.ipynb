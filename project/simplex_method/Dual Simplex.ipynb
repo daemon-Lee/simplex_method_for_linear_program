{
 "cells": [
  {
   "cell_type": "code",
   "execution_count": 1,
   "metadata": {},
   "outputs": [],
   "source": [
    "import numpy as np\n",
    "from fractions import Fraction # so that numbers are not displayed in decimal. "
   ]
  },
  {
   "cell_type": "code",
   "execution_count": 2,
   "metadata": {},
   "outputs": [],
   "source": [
    "def gen_problem(n_var, n_contrain):\n",
    "    \n",
    "    contrain = np.random.randint(low=-9, high=13, size=(n_var,n_contrain))\n",
    "    bacis = np.eye(n_contrain)\n",
    "\n",
    "    # A will contain the coefficients of the constraints \n",
    "    A = np.vstack((contrain,bacis)).T\n",
    "\n",
    "    # b will contain the amount of resources \n",
    "    b = np.random.randint(low=-9, high=13, size=(n_contrain,))\n",
    "\n",
    "\n",
    "    # c will contain coefficients of objective function Z\n",
    "    cz = np.random.randint(low=-9, high=13, size=(n_var,))\n",
    "    cb = np.zeros((n_contrain,))\n",
    "    c = np.concatenate([cz,cb])\n",
    "    \n",
    "    B = np.arange(n_var,n_var + n_contrain)[np.newaxis].T\n",
    "    n = np.arange(0,n_var)[np.newaxis].T\n",
    "    \n",
    "    return A, b, c, B, n"
   ]
  },
  {
   "cell_type": "code",
   "execution_count": 3,
   "metadata": {},
   "outputs": [],
   "source": [
    "A, b, c, B, n = gen_problem(3,2)"
   ]
  },
  {
   "cell_type": "code",
   "execution_count": 4,
   "metadata": {},
   "outputs": [],
   "source": [
    "# inputs \n",
    "\n",
    "# A will contain the coefficients of the constraints \n",
    "A = np.array([[-1,-1, -1, 1, 0],\n",
    "              [2, -1,  1, 0, 1]])\n",
    "\n",
    "\n",
    "# b will contain the amount of resources \n",
    "b = np.array([-2, 1])\n",
    "\n",
    "\n",
    "# c will contain coefficients of objective function Z \n",
    "c = np.array([2, -6, 0, 0, 0])\n",
    "\n",
    "B = np.array([[3], [4]])\n",
    "n = np.array([[0], [1], [2]])"
   ]
  },
  {
   "cell_type": "code",
   "execution_count": 5,
   "metadata": {
    "scrolled": true
   },
   "outputs": [
    {
     "data": {
      "text/plain": [
       "array([ 2, -6,  0,  0,  0])"
      ]
     },
     "execution_count": 5,
     "metadata": {},
     "output_type": "execute_result"
    }
   ],
   "source": [
    "c"
   ]
  },
  {
   "cell_type": "code",
   "execution_count": 6,
   "metadata": {},
   "outputs": [],
   "source": [
    "# init parameter\n",
    "xb = np.transpose([b]) \n",
    "zn = -c[n]\n",
    "count = 0"
   ]
  },
  {
   "cell_type": "code",
   "execution_count": 7,
   "metadata": {},
   "outputs": [],
   "source": [
    "if False not in (zn > 0):\n",
    "    print('ok')"
   ]
  },
  {
   "cell_type": "code",
   "execution_count": 8,
   "metadata": {},
   "outputs": [],
   "source": [
    "def dual_simplex(A, B, n, xb, zn, verbor=False):\n",
    "\n",
    "    count = 0\n",
    "    Bi = A[:,B].reshape((-1,len(B)))\n",
    "    N = A[:,n].reshape((-1, len(n)))\n",
    "\n",
    "    if verbor:\n",
    "        A_hat = np.concatenate([B.T,xb.T,N.T,Bi.T]).T\n",
    "        print(\"Dictionary\\n\", A_hat)\n",
    "    \n",
    "    while(np.min(xb)<0):\n",
    "        i = np.argmin(xb)\n",
    "        e = np.zeros((1,len(xb))).T\n",
    "        e[i] = 1\n",
    "        \n",
    "        delta_zn = -(np.linalg.inv(Bi).dot(N)).T.dot(e)\n",
    "    \n",
    "        s = np.max(delta_zn/zn)**-1\n",
    "\n",
    "        j = np.argmax(delta_zn/zn)\n",
    "        e = np.zeros((1,len(zn))).T\n",
    "        e[j] = 1\n",
    "\n",
    "        delta_xb = np.linalg.inv(Bi).dot(N).dot(e)\n",
    "\n",
    "        t = xb[i]/delta_xb[i]\n",
    "\n",
    "        xb = xb - t*delta_xb\n",
    "        zn = zn - s*delta_zn\n",
    "\n",
    "        xb[i] = t\n",
    "        zn[j] = s\n",
    "\n",
    "        # pivot\n",
    "        pivot = B[i].copy()\n",
    "        B[i] = n[j].copy()\n",
    "        n[j] = pivot\n",
    "\n",
    "        Bi = A[:,B].reshape((-1,len(B)))\n",
    "        N = A[:,n].reshape((-1, len(n)))\n",
    "\n",
    "        A_hat = np.concatenate([B.T,xb.T,N.T,Bi.T]).T\n",
    "\n",
    "        count += 1\n",
    "        optimal = xb.T.dot(c[B]).reshape(-1)[0]\n",
    "\n",
    "        if verbor:\n",
    "            A_hat = np.concatenate([B.T,xb.T,N.T,Bi.T]).T\n",
    "            print(\"iter:\", count)\n",
    "            print(\"Dictionary\\n\", A_hat)\n",
    "            print(\"optimal:\", optimal)\n",
    "    \n",
    "    sol = np.zeros(len(c))\n",
    "    sol[B] = xb\n",
    "    \n",
    "    return {\n",
    "        \"iter\": count,\n",
    "        \"optimal\": optimal,\n",
    "        \"sol\": sol\n",
    "    }"
   ]
  },
  {
   "cell_type": "code",
   "execution_count": 9,
   "metadata": {},
   "outputs": [
    {
     "name": "stderr",
     "output_type": "stream",
     "text": [
      "/home/abelsliver/anaconda3/lib/python3.7/site-packages/ipykernel_launcher.py:18: RuntimeWarning: divide by zero encountered in true_divide\n",
      "/home/abelsliver/anaconda3/lib/python3.7/site-packages/ipykernel_launcher.py:20: RuntimeWarning: divide by zero encountered in true_divide\n"
     ]
    },
    {
     "data": {
      "text/plain": [
       "{'iter': 3, 'optimal': -3.0, 'sol': array([0. , 0.5, 1.5, 0. , 0. ])}"
      ]
     },
     "execution_count": 9,
     "metadata": {},
     "output_type": "execute_result"
    }
   ],
   "source": [
    "dual_simplex(A.copy(), B.copy(), n.copy(), xb.copy(), zn.copy(), verbor=False)"
   ]
  },
  {
   "cell_type": "code",
   "execution_count": null,
   "metadata": {},
   "outputs": [],
   "source": []
  }
 ],
 "metadata": {
  "kernelspec": {
   "display_name": "Python 3",
   "language": "python",
   "name": "python3"
  },
  "language_info": {
   "codemirror_mode": {
    "name": "ipython",
    "version": 3
   },
   "file_extension": ".py",
   "mimetype": "text/x-python",
   "name": "python",
   "nbconvert_exporter": "python",
   "pygments_lexer": "ipython3",
   "version": "3.7.6"
  }
 },
 "nbformat": 4,
 "nbformat_minor": 4
}
