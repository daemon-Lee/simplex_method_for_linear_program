{
 "cells": [
  {
   "cell_type": "code",
   "execution_count": null,
   "metadata": {},
   "outputs": [],
   "source": [
    "# import the library pulp as p \n",
    "import pulp as p \n",
    "\n",
    "# Create a LP Minimization problem \n",
    "Lp_prob = p.LpProblem('Problem', p.LpMaximize) \n",
    "\n",
    "# Create problem Variables \n",
    "x1 = p.LpVariable(\"x1\", lowBound = 0) # Create a variable x1 >= 0 \n",
    "x2 = p.LpVariable(\"x2\", lowBound = 0) # Create a variable x2 >= 0 \n",
    "x3 = p.LpVariable(\"x3\", lowBound = 0) # Create a variable x3 >= 0 \n",
    "\n",
    "# Objective Function \n",
    "Lp_prob += 2*x1 - 6*x2 \n",
    "\n",
    "# Constraints: \n",
    "Lp_prob += -x1 - x2 - x3 <= -2\n",
    "Lp_prob += 2*x1 - x2 + x3 <= 1\n",
    "\n",
    "# Display the problem \n",
    "print(Lp_prob) \n",
    "\n",
    "status = Lp_prob.solve() # Solver \n",
    "print(p.LpStatus[status]) # The solution status \n",
    "\n",
    "# Printing the final solution \n",
    "print(p.value(x1), p.value(x2), p.value(x3), p.value(Lp_prob.objective)) "
   ]
  }
 ],
 "metadata": {
  "kernelspec": {
   "display_name": "Python 3",
   "language": "python",
   "name": "python3"
  },
  "language_info": {
   "codemirror_mode": {
    "name": "ipython",
    "version": 3
   },
   "file_extension": ".py",
   "mimetype": "text/x-python",
   "name": "python",
   "nbconvert_exporter": "python",
   "pygments_lexer": "ipython3",
   "version": "3.7.6"
  }
 },
 "nbformat": 4,
 "nbformat_minor": 4
}
