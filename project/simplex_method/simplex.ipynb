{
 "cells": [
  {
   "cell_type": "code",
   "execution_count": 2,
   "metadata": {},
   "outputs": [],
   "source": [
    "from utils import *"
   ]
  },
  {
   "cell_type": "code",
   "execution_count": 3,
   "metadata": {},
   "outputs": [],
   "source": [
    "def maxz(table):\n",
    "    while next_round_r(table)==True:\n",
    "        table = pivot(loc_piv_r(table)[0],loc_piv_r(table)[1],table)\n",
    "    while next_round(table)==True:\n",
    "        table = pivot(loc_piv(table)[0],loc_piv(table)[1],table)        \n",
    "    lc = len(table[0,:])\n",
    "    lr = len(table[:,0])\n",
    "    var = lc - lr -1\n",
    "    i = 0\n",
    "    val = {}\n",
    "    for i in range(var):\n",
    "        col = table[:,i]\n",
    "        s = sum(col)\n",
    "        m = max(col)\n",
    "        if float(s) == float(m):\n",
    "            loc = np.where(col == m)[0][0]            \n",
    "            val[gen_var(table)[i]] = table[loc,-1]\n",
    "        else:\n",
    "            val[gen_var(table)[i]] = 0\n",
    "    val['max'] = table[-1,-1]\n",
    "    return val"
   ]
  },
  {
   "cell_type": "code",
   "execution_count": 13,
   "metadata": {},
   "outputs": [],
   "source": [
    "def minz(table):\n",
    "    table = convert_min(table)\n",
    "    while next_round_r(table)==True:\n",
    "        table = pivot(loc_piv_r(table)[0],loc_piv_r(table)[1],table)    \n",
    "    while next_round(table)==True:\n",
    "        table = pivot(loc_piv(table)[0],loc_piv(table)[1],table)       \n",
    "    lc = len(table[0,:])\n",
    "    lr = len(table[:,0])\n",
    "    var = lc - lr -1\n",
    "    i = 0\n",
    "    val = {}\n",
    "    for i in range(var):\n",
    "        col = table[:,i]\n",
    "        s = sum(col)\n",
    "        m = max(col)\n",
    "        if float(s) == float(m):\n",
    "            loc = np.where(col == m)[0][0]             \n",
    "            val[gen_var(table)[i]] = table[loc,-1]\n",
    "        else:\n",
    "            val[gen_var(table)[i]] = 0 \n",
    "            val['min'] = table[-1,-1]*-1\n",
    "    return val"
   ]
  },
  {
   "cell_type": "code",
   "execution_count": 14,
   "metadata": {},
   "outputs": [
    {
     "name": "stdout",
     "output_type": "stream",
     "text": [
      "{'x1': 0, 'x2': 0.5, 'x3': 1.5, 'max': -3.0}\n"
     ]
    }
   ],
   "source": [
    "m = gen_matrix(3,2)\n",
    "constrain(m,'-1,-1,-1,L,-2')\n",
    "constrain(m,'2,-1,1,L,1')\n",
    "obj(m,'2,-6,0,0')\n",
    "print(maxz(m))"
   ]
  },
  {
   "cell_type": "code",
   "execution_count": null,
   "metadata": {},
   "outputs": [],
   "source": []
  }
 ],
 "metadata": {
  "kernelspec": {
   "display_name": "Python 3",
   "language": "python",
   "name": "python3"
  },
  "language_info": {
   "codemirror_mode": {
    "name": "ipython",
    "version": 3
   },
   "file_extension": ".py",
   "mimetype": "text/x-python",
   "name": "python",
   "nbconvert_exporter": "python",
   "pygments_lexer": "ipython3",
   "version": "3.7.6"
  }
 },
 "nbformat": 4,
 "nbformat_minor": 4
}
