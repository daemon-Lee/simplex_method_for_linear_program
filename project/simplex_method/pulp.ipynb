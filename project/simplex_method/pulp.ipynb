{
 "cells": [
  {
   "cell_type": "code",
   "execution_count": 1,
   "metadata": {},
   "outputs": [
    {
     "name": "stdout",
     "output_type": "stream",
     "text": [
      "Problem:\n",
      "MAXIMIZE\n",
      "2*x1 + -6*x2 + 0\n",
      "SUBJECT TO\n",
      "_C1: - x1 - x2 - x3 <= -2\n",
      "\n",
      "_C2: 2 x1 - x2 + x3 <= 1\n",
      "\n",
      "VARIABLES\n",
      "x1 Continuous\n",
      "x2 Continuous\n",
      "x3 Continuous\n",
      "\n",
      "Optimal\n",
      "0.0 0.5 1.5 -3.0\n"
     ]
    }
   ],
   "source": [
    "# import the library pulp as p \n",
    "import pulp as p \n",
    "\n",
    "# Create a LP Minimization problem \n",
    "Lp_prob = p.LpProblem('Problem', p.LpMaximize) \n",
    "\n",
    "# Create problem Variables \n",
    "x1 = p.LpVariable(\"x1\", lowBound = 0) # Create a variable x1 >= 0 \n",
    "x2 = p.LpVariable(\"x2\", lowBound = 0) # Create a variable x2 >= 0 \n",
    "x3 = p.LpVariable(\"x3\", lowBound = 0) # Create a variable x3 >= 0 \n",
    "\n",
    "# Objective Function \n",
    "Lp_prob += 2*x1 - 6*x2 \n",
    "\n",
    "# Constraints: \n",
    "Lp_prob += -x1 - x2 - x3 <= -2\n",
    "Lp_prob += 2*x1 - x2 + x3 <= 1\n",
    "\n",
    "# Display the problem \n",
    "print(Lp_prob) \n",
    "\n",
    "status = Lp_prob.solve() # Solver \n",
    "print(p.LpStatus[status]) # The solution status \n",
    "\n",
    "# Printing the final solution \n",
    "print(p.value(x1), p.value(x2), p.value(x3), p.value(Lp_prob.objective)) "
   ]
  },
  {
   "cell_type": "code",
   "execution_count": 2,
   "metadata": {},
   "outputs": [
    {
     "name": "stdout",
     "output_type": "stream",
     "text": [
      "Problem:\n",
      "MAXIMIZE\n",
      "1*x1 + -3*x2 + 0\n",
      "SUBJECT TO\n",
      "_C1: - x1 - x2 <= -3\n",
      "\n",
      "_C2: - x1 + x2 <= -1\n",
      "\n",
      "_C3: x1 + 2 x2 <= 2\n",
      "\n",
      "VARIABLES\n",
      "x1 Continuous\n",
      "x2 Continuous\n",
      "\n",
      "Infeasible\n",
      "3.0 0.0 1.5 3.0\n"
     ]
    }
   ],
   "source": [
    "# import the library pulp as p \n",
    "import pulp as p \n",
    "\n",
    "# Create a LP Minimization problem \n",
    "Lp_prob = p.LpProblem('Problem', p.LpMaximize) \n",
    "\n",
    "# Create problem Variables \n",
    "x1 = p.LpVariable(\"x1\", lowBound = 0) # Create a variable x1 >= 0 \n",
    "x2 = p.LpVariable(\"x2\", lowBound = 0) # Create a variable x2 >= 0 \n",
    "\n",
    "# Objective Function \n",
    "Lp_prob += x1 - 3*x2\n",
    "\n",
    "# Constraints: \n",
    "Lp_prob += -x1 - x2 <= -3\n",
    "Lp_prob += -x1 + x2 <= -1\n",
    "Lp_prob += x1 + 2*x2 <= 2\n",
    "\n",
    "# Display the problem \n",
    "print(Lp_prob) \n",
    "\n",
    "status = Lp_prob.solve() # Solver \n",
    "print(p.LpStatus[status]) # The solution status \n",
    "\n",
    "# Printing the final solution \n",
    "print(p.value(x1), p.value(x2), p.value(x3), p.value(Lp_prob.objective)) "
   ]
  },
  {
   "cell_type": "code",
   "execution_count": 3,
   "metadata": {},
   "outputs": [
    {
     "name": "stdout",
     "output_type": "stream",
     "text": [
      "Problem:\n",
      "MAXIMIZE\n",
      "1*x1 + -3*x2 + 0\n",
      "SUBJECT TO\n",
      "_C1: - x1 - x2 <= -3\n",
      "\n",
      "_C2: - x1 + x2 <= -1\n",
      "\n",
      "_C3: - x1 + 2 x2 <= 2\n",
      "\n",
      "VARIABLES\n",
      "x1 Continuous\n",
      "x2 Continuous\n",
      "\n",
      "Unbounded\n",
      "0.0 0.0 1.5 0.0\n"
     ]
    }
   ],
   "source": [
    "# import the library pulp as p \n",
    "import pulp as p \n",
    "\n",
    "# Create a LP Minimization problem \n",
    "Lp_prob = p.LpProblem('Problem', p.LpMaximize) \n",
    "\n",
    "# Create problem Variables \n",
    "x1 = p.LpVariable(\"x1\", lowBound = 0) # Create a variable x1 >= 0 \n",
    "x2 = p.LpVariable(\"x2\", lowBound = 0) # Create a variable x2 >= 0 \n",
    "\n",
    "# Objective Function \n",
    "Lp_prob += x1 - 3*x2\n",
    "\n",
    "# Constraints: \n",
    "Lp_prob += -x1 - x2 <= -3\n",
    "Lp_prob += -x1 + x2 <= -1\n",
    "Lp_prob += -x1 + 2*x2 <= 2\n",
    "\n",
    "# Display the problem \n",
    "print(Lp_prob) \n",
    "\n",
    "status = Lp_prob.solve() # Solver \n",
    "print(p.LpStatus[status]) # The solution status \n",
    "\n",
    "# Printing the final solution \n",
    "print(p.value(x1), p.value(x2), p.value(x3), p.value(Lp_prob.objective)) "
   ]
  },
  {
   "cell_type": "code",
   "execution_count": 1,
   "metadata": {},
   "outputs": [],
   "source": [
    "from simplex_method import Simplex_method\n",
    "import numpy as np"
   ]
  },
  {
   "cell_type": "code",
   "execution_count": 2,
   "metadata": {},
   "outputs": [
    {
     "name": "stdout",
     "output_type": "stream",
     "text": [
      "dual feasible\n",
      "Start convert negative components\n",
      "run dual simplex method\n",
      "Phase one\n",
      "Objective\n",
      " [[ 0  3 -3 -1  2]]\n",
      "Dictionary\n",
      " [[ 2 -3 -1 -1  1  0  0]\n",
      " [ 3 -1 -1  1  0  1  0]\n",
      " [ 4  2 -1  2  0  0  1]]\n",
      "iter: 1\n",
      "Dictionary\n",
      " [[ 0.  3.  1. -1. -1.  0.  0.]\n",
      " [ 3.  2.  0.  1. -1.  1.  0.]\n",
      " [ 4.  5.  0.  2. -1.  0.  1.]]\n",
      "optimal: 3.0\n",
      "Phase two\n",
      "Objective\n",
      " [[0. 3. 3. 2. 5.]]\n",
      "Dictionary\n",
      " [[ 0.  3.  1. -1. -1.  0.  0.]\n",
      " [ 3.  2.  0.  1. -1.  1.  0.]\n",
      " [ 4.  5.  0.  2. -1.  0.  1.]]\n",
      "{'iter': 1, 'optimal': 3.0, 'sol': array([3., 0., 0., 2., 5.])}\n"
     ]
    },
    {
     "name": "stderr",
     "output_type": "stream",
     "text": [
      "/home/abelsliver/Project/MAO/simplex_method_for_linear_program/project/simplex_method/simplex_method.py:126: RuntimeWarning: divide by zero encountered in true_divide\n",
      "  s = np.max(delta_zn/self.zn)**-1\n",
      "/home/abelsliver/Project/MAO/simplex_method_for_linear_program/project/simplex_method/simplex_method.py:128: RuntimeWarning: divide by zero encountered in true_divide\n",
      "  j = np.argmax(delta_zn/self.zn)\n"
     ]
    }
   ],
   "source": [
    "\n",
    "# inputs \n",
    "\n",
    "# A will contain the coefficients of the constraints \n",
    "A = np.array([[-1,-1, 1, 0, 0],\n",
    "              [-1, 1, 0, 1, 0],\n",
    "              [-1, 2, 0, 0, 1]])\n",
    "\n",
    "# b will contain the amount of resources \n",
    "b = np.array([-3, -1, 2])\n",
    "\n",
    "# c will contain coefficients of objective function Z \n",
    "c = np.array([1, -3, 0, 0, 0])\n",
    "\n",
    "simplex = Simplex_method(A,b,c)\n",
    "\n",
    "print(simplex.solve(verbor=True))"
   ]
  },
  {
   "cell_type": "code",
   "execution_count": null,
   "metadata": {},
   "outputs": [],
   "source": []
  }
 ],
 "metadata": {
  "kernelspec": {
   "display_name": "Python 3",
   "language": "python",
   "name": "python3"
  },
  "language_info": {
   "codemirror_mode": {
    "name": "ipython",
    "version": 3
   },
   "file_extension": ".py",
   "mimetype": "text/x-python",
   "name": "python",
   "nbconvert_exporter": "python",
   "pygments_lexer": "ipython3",
   "version": "3.7.6"
  }
 },
 "nbformat": 4,
 "nbformat_minor": 4
}
