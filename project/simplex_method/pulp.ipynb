{
 "cells": [
  {
   "cell_type": "code",
   "execution_count": 21,
   "metadata": {},
   "outputs": [
    {
     "name": "stdout",
     "output_type": "stream",
     "text": [
      "Problem:\n",
      "MAXIMIZE\n",
      "2*x1 + -6*x2 + 0\n",
      "SUBJECT TO\n",
      "_C1: - x1 - x2 - x3 <= -2\n",
      "\n",
      "_C2: 2 x1 - x2 + x3 <= 1\n",
      "\n",
      "VARIABLES\n",
      "x1 Continuous\n",
      "x2 Continuous\n",
      "x3 Continuous\n",
      "\n",
      "Optimal\n",
      "0.0 0.5 1.5 -3.0\n"
     ]
    }
   ],
   "source": [
    "# import the library pulp as p \n",
    "import pulp as p \n",
    "\n",
    "# Create a LP Minimization problem \n",
    "Lp_prob = p.LpProblem('Problem', p.LpMaximize) \n",
    "\n",
    "# Create problem Variables \n",
    "x1 = p.LpVariable(\"x1\", lowBound = 0) # Create a variable x1 >= 0 \n",
    "x2 = p.LpVariable(\"x2\", lowBound = 0) # Create a variable x2 >= 0 \n",
    "x3 = p.LpVariable(\"x3\", lowBound = 0) # Create a variable x3 >= 0 \n",
    "\n",
    "# Objective Function \n",
    "Lp_prob += 2*x1 - 6*x2 \n",
    "\n",
    "# Constraints: \n",
    "Lp_prob += -x1 - x2 - x3 <= -2\n",
    "Lp_prob += 2*x1 - x2 + x3 <= 1\n",
    "\n",
    "# Display the problem \n",
    "print(Lp_prob) \n",
    "\n",
    "status = Lp_prob.solve() # Solver \n",
    "print(p.LpStatus[status]) # The solution status \n",
    "\n",
    "# Printing the final solution \n",
    "print(p.value(x1), p.value(x2), p.value(x3), p.value(Lp_prob.objective)) "
   ]
  },
  {
   "cell_type": "code",
   "execution_count": 22,
   "metadata": {},
   "outputs": [
    {
     "name": "stdout",
     "output_type": "stream",
     "text": [
      "Problem:\n",
      "MAXIMIZE\n",
      "1*x1 + -3*x2 + 0\n",
      "SUBJECT TO\n",
      "_C1: - x1 - x2 <= -3\n",
      "\n",
      "_C2: - x1 + x2 <= -1\n",
      "\n",
      "_C3: x1 + 2 x2 <= 2\n",
      "\n",
      "VARIABLES\n",
      "x1 Continuous\n",
      "x2 Continuous\n",
      "\n",
      "Infeasible\n",
      "3.0 0.0 3.0\n"
     ]
    }
   ],
   "source": [
    "# import the library pulp as p \n",
    "import pulp as p \n",
    "\n",
    "# Create a LP Minimization problem \n",
    "Lp_prob = p.LpProblem('Problem', p.LpMaximize) \n",
    "\n",
    "# Create problem Variables \n",
    "x1 = p.LpVariable(\"x1\", lowBound = 0) # Create a variable x1 >= 0 \n",
    "x2 = p.LpVariable(\"x2\", lowBound = 0) # Create a variable x2 >= 0 \n",
    "\n",
    "# Objective Function \n",
    "Lp_prob += x1 - 3*x2\n",
    "\n",
    "# Constraints: \n",
    "Lp_prob += -x1 - x2 <= -3\n",
    "Lp_prob += -x1 + x2 <= -1\n",
    "Lp_prob += x1 + 2*x2 <= 2\n",
    "\n",
    "# Display the problem \n",
    "print(Lp_prob) \n",
    "\n",
    "status = Lp_prob.solve() # Solver \n",
    "print(p.LpStatus[status]) # The solution status \n",
    "\n",
    "# Printing the final solution \n",
    "print(p.value(x1), p.value(x2), p.value(Lp_prob.objective)) "
   ]
  },
  {
   "cell_type": "code",
   "execution_count": 24,
   "metadata": {},
   "outputs": [
    {
     "name": "stdout",
     "output_type": "stream",
     "text": [
      "Problem:\n",
      "MAXIMIZE\n",
      "1*x1 + -3*x2 + 0\n",
      "SUBJECT TO\n",
      "_C1: - x1 - x2 <= -3\n",
      "\n",
      "_C2: - x1 + x2 <= -1\n",
      "\n",
      "_C3: - x1 + 2 x2 <= 2\n",
      "\n",
      "VARIABLES\n",
      "x1 Continuous\n",
      "x2 Continuous\n",
      "\n",
      "Unbounded\n",
      "0.0 0.0 0.0\n"
     ]
    }
   ],
   "source": [
    "# import the library pulp as p \n",
    "import pulp as p \n",
    "\n",
    "# Create a LP Minimization problem \n",
    "Lp_prob = p.LpProblem('Problem', p.LpMaximize) \n",
    "\n",
    "# Create problem Variables \n",
    "x1 = p.LpVariable(\"x1\", lowBound = 0) # Create a variable x1 >= 0 \n",
    "x2 = p.LpVariable(\"x2\", lowBound = 0) # Create a variable x2 >= 0 \n",
    "\n",
    "# Objective Function \n",
    "Lp_prob += x1 - 3*x2\n",
    "\n",
    "# Constraints: \n",
    "Lp_prob += -x1 - x2 <= -3\n",
    "Lp_prob += -x1 + x2 <= -1\n",
    "Lp_prob += -x1 + 2*x2 <= 2\n",
    "\n",
    "# Display the problem \n",
    "print(Lp_prob) \n",
    "\n",
    "status = Lp_prob.solve() # Solver \n",
    "print(p.LpStatus[status]) # The solution status \n",
    "\n",
    "# Printing the final solution \n",
    "print(p.value(x1), p.value(x2), p.value(Lp_prob.objective)) "
   ]
  },
  {
   "cell_type": "code",
   "execution_count": 1,
   "metadata": {},
   "outputs": [],
   "source": [
    "from simplex_method import Simplex_method\n",
    "import numpy as np"
   ]
  },
  {
   "cell_type": "code",
   "execution_count": 128,
   "metadata": {},
   "outputs": [],
   "source": [
    "# A will contain the coefficients of the constraints\n",
    "A = np.array([[-1, -1, -1, 1, 0],\n",
    "              [2, -1,  1, 0, 1]])\n",
    "\n",
    "# b will contain the amount of resources\n",
    "b = np.array([-2, 1])\n",
    "\n",
    "# c will contain coefficients of objective function Z\n",
    "c = np.array([2, -6, 0, 0, 0])"
   ]
  },
  {
   "cell_type": "code",
   "execution_count": 124,
   "metadata": {},
   "outputs": [],
   "source": [
    "def gen_problem(n_var, n_contrain):\n",
    "    \n",
    "    contrain = np.random.randint(low=-9, high=13, size=(n_var,n_contrain))\n",
    "    bacis = np.eye(n_contrain)\n",
    "\n",
    "    # A will contain the coefficients of the constraints \n",
    "    A = np.vstack((contrain,bacis)).T\n",
    "\n",
    "    # b will contain the amount of resources \n",
    "    b = np.random.randint(low=-9, high=13, size=(n_contrain,))\n",
    "\n",
    "\n",
    "    # c will contain coefficients of objective function Z\n",
    "    cz = np.random.randint(low=-9, high=13, size=(n_var,))\n",
    "    cb = np.zeros((n_contrain,))\n",
    "    c = np.concatenate([cz,cb])\n",
    "    \n",
    "    return A, b, c"
   ]
  },
  {
   "cell_type": "code",
   "execution_count": 125,
   "metadata": {},
   "outputs": [],
   "source": [
    "A, b, c = gen_problem(3,3)"
   ]
  },
  {
   "cell_type": "code",
   "execution_count": 129,
   "metadata": {},
   "outputs": [],
   "source": [
    "n_contrain = len(A)\n",
    "n_var = len(c) - n_contrain\n",
    "\n",
    "B = np.arange(n_var, n_var + n_contrain)[np.newaxis].T\n",
    "n = np.arange(0, n_var)[np.newaxis].T"
   ]
  },
  {
   "cell_type": "code",
   "execution_count": 131,
   "metadata": {},
   "outputs": [
    {
     "name": "stdout",
     "output_type": "stream",
     "text": [
      "Problem:\n",
      "MAXIMIZE\n",
      "2*x1 + -6*x2 + 0\n",
      "SUBJECT TO\n",
      "_C1: - x1 - x2 - x3 <= -2\n",
      "\n",
      "_C2: 2 x1 - x2 + x3 <= 1\n",
      "\n",
      "VARIABLES\n",
      "x1 Continuous\n",
      "x2 Continuous\n",
      "x3 Continuous\n",
      "\n",
      "Optimal\n",
      "0.0 0.5 1.5 -3.0\n"
     ]
    }
   ],
   "source": [
    "# import the library pulp as p \n",
    "import pulp as p \n",
    "\n",
    "# Create a LP Minimization problem \n",
    "Lp_prob = p.LpProblem('Problem', p.LpMaximize) \n",
    "\n",
    "# Create problem Variables\n",
    "x = [p.LpVariable(\"x\"+str(i), lowBound = 0) for i in range(1,n_var+1)]\n",
    "\n",
    "# Objective Function \n",
    "objective = 0\n",
    "for i in range(n_var):\n",
    "    objective += c[i]*x[i]\n",
    "\n",
    "Lp_prob += objective \n",
    "\n",
    "# Constraints:\n",
    "for i in range(n_contrain):\n",
    "    contrain = 0\n",
    "    for j in range(n_var):\n",
    "        contrain += A[i,j]*x[j] <= b[i]/n_var\n",
    "    Lp_prob += contrain\n",
    "\n",
    "# Display the problem \n",
    "print(Lp_prob) \n",
    "\n",
    "status = Lp_prob.solve() # Solver \n",
    "print(p.LpStatus[status]) # The solution status \n",
    "\n",
    "# Printing the final solution \n",
    "print(p.value(x[0]), p.value(x[1]), p.value(x[2]), p.value(Lp_prob.objective)) "
   ]
  },
  {
   "cell_type": "code",
   "execution_count": null,
   "metadata": {},
   "outputs": [],
   "source": []
  },
  {
   "cell_type": "code",
   "execution_count": null,
   "metadata": {},
   "outputs": [],
   "source": []
  }
 ],
 "metadata": {
  "kernelspec": {
   "display_name": "Python 3",
   "language": "python",
   "name": "python3"
  },
  "language_info": {
   "codemirror_mode": {
    "name": "ipython",
    "version": 3
   },
   "file_extension": ".py",
   "mimetype": "text/x-python",
   "name": "python",
   "nbconvert_exporter": "python",
   "pygments_lexer": "ipython3",
   "version": "3.7.6"
  }
 },
 "nbformat": 4,
 "nbformat_minor": 4
}
