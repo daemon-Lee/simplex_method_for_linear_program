{
  "nbformat": 4,
  "nbformat_minor": 0,
  "metadata": {
    "colab": {
      "name": "Simplex_method.ipynb",
      "provenance": [],
      "collapsed_sections": [],
      "authorship_tag": "ABX9TyN24d0p8hnJ4oHTaJgII5wo",
      "include_colab_link": true
    },
    "kernelspec": {
      "name": "python3",
      "display_name": "Python 3"
    }
  },
  "cells": [
    {
      "cell_type": "markdown",
      "metadata": {
        "id": "view-in-github",
        "colab_type": "text"
      },
      "source": [
        "<a href=\"https://colab.research.google.com/github/daemon-Lee/simplex_method_for_linear_program/blob/master/project/simplex_method/Simplex_method.ipynb\" target=\"_parent\"><img src=\"https://colab.research.google.com/assets/colab-badge.svg\" alt=\"Open In Colab\"/></a>"
      ]
    },
    {
      "cell_type": "code",
      "metadata": {
        "id": "_JcnZqOHTZg5",
        "colab_type": "code",
        "colab": {}
      },
      "source": [
        "#@title Copyright 2020 Duy L.Dinh. { display-mode: \"form\" }\n",
        "#@markdown CS1302 HE130655.\n",
        "# Licensed under the Apache License, Version 2.0 (the \"License\");\n",
        "# you may not use this file except in compliance with the License.\n",
        "# You may obtain a copy of the License at\n",
        "\n",
        "#     http://www.apache.org/licenses/LICENSE-2.0\n",
        "\n",
        "# Unless required by applicable law or agreed to in writing, software\n",
        "# distributed under the License is distributed on an \"AS IS\" BASIS,\n",
        "# WITHOUT WARRANTIES OR CONDITIONS OF ANY KIND, either express or implied.\n",
        "# See the License for the specific language governing permissions and\n",
        "# limitations under the License."
      ],
      "execution_count": null,
      "outputs": []
    },
    {
      "cell_type": "markdown",
      "metadata": {
        "id": "pDilus3OwNOC",
        "colab_type": "text"
      },
      "source": [
        "# Project MAO302\n",
        "This is final project of MAO302 Course make by FPT University"
      ]
    },
    {
      "cell_type": "markdown",
      "metadata": {
        "id": "Hqi2c_Z3wTvD",
        "colab_type": "text"
      },
      "source": [
        "## Part 1: simplex method for linear program (LP)"
      ]
    },
    {
      "cell_type": "code",
      "metadata": {
        "id": "evWwS9yWwyqo",
        "colab_type": "code",
        "colab": {}
      },
      "source": [
        "import numpy as np\n",
        "np.random.seed(2020)"
      ],
      "execution_count": null,
      "outputs": []
    },
    {
      "cell_type": "markdown",
      "metadata": {
        "id": "bEJEO3IhwZqS",
        "colab_type": "text"
      },
      "source": [
        "### Generate input matrices of a standard linear program in matrix from"
      ]
    },
    {
      "cell_type": "code",
      "metadata": {
        "id": "JpV_hmmKxEwM",
        "colab_type": "code",
        "colab": {}
      },
      "source": [
        "def gen_problem(n_var, n_contrain):\n",
        "    \n",
        "    contrain = np.random.randint(low=-7, high=19, size=(n_var,n_contrain))\n",
        "    bacis = np.eye(n_contrain)\n",
        "\n",
        "    # A will contain the coefficients of the constraints \n",
        "    A = np.vstack((contrain,bacis)).T\n",
        "\n",
        "    # b will contain the amount of resources \n",
        "    b = np.random.randint(low=-7, high=19, size=(n_contrain,))\n",
        "\n",
        "\n",
        "    # c will contain coefficients of objective function Z\n",
        "    cz = np.random.randint(low=-7, high=19, size=(n_var,))\n",
        "    cb = np.zeros((n_contrain,))\n",
        "    c = np.concatenate([cz,cb])\n",
        "    \n",
        "    return A, b, c"
      ],
      "execution_count": null,
      "outputs": []
    },
    {
      "cell_type": "markdown",
      "metadata": {
        "id": "s8buv1Nbwgnu",
        "colab_type": "text"
      },
      "source": [
        "### Write a code to solve the generated LP using to phase simplex method in matrix form\n"
      ]
    },
    {
      "cell_type": "code",
      "metadata": {
        "id": "M9mduSSqwzO3",
        "colab_type": "code",
        "cellView": "both",
        "colab": {}
      },
      "source": [
        "#@title THE SIMPLEX METHOD IN MATRIX NOTATION\n",
        "class Simplex_method:\n",
        "#@markdown First input A, b, c, where:\n",
        "#@markdown - **A** will contain the coefficients of the constraints\n",
        "#@markdown - **b** will contain the amount of resources\n",
        "#@markdown - **c** will contain coefficients of objective function Z\n",
        "    def __init__(self, A, b, c):\n",
        "        self.A = A\n",
        "        self.c = c\n",
        "        self.B = 0\n",
        "        self.n = 0\n",
        "#@markdown Generate *B* and *N*\n",
        "#@markdown - **B** will contain the Basic set\n",
        "#@markdown - **n** will contain the nonbasic set\n",
        "        n_contrain = len(self.A)\n",
        "        n_var = len(self.c) - n_contrain\n",
        "\n",
        "        self.B = np.arange(n_var, n_var + n_contrain)[np.newaxis].T\n",
        "        self.n = np.arange(0, n_var)[np.newaxis].T\n",
        "\n",
        "#@markdown - The initial values of the basic variables: xb = b\n",
        "        self.xb = np.transpose([b])\n",
        "#@markdown - The initial values of the nonbasic dual variables: zn = -cn\n",
        "        self.zn = -self.c[self.n]\n",
        "        \n",
        "        self.status = 'Optimal'\n",
        "        self.objective = 0\n",
        "\n",
        "    def solve(self, verbor=False):\n",
        "        self.count = 0\n",
        "        for i in self.n:\n",
        "            if True not in (self.A[:, i] > 0) and self.c[i] > 0:\n",
        "                print(\"Unbounded\")\n",
        "                self.status = 'Unbounded'\n",
        "                \n",
        "                sol = np.zeros(len(self.c))\n",
        "                sol[self.B] = self.xb\n",
        "\n",
        "                return {\n",
        "                    'status': self.status,\n",
        "                    \"iter\": self.count,\n",
        "                    \"objective\": self.objective,\n",
        "                    \"sol\": sol\n",
        "                }\n",
        "\n",
        "#@markdown Find solution for problem\n",
        "\n",
        "#@markdown - Check for Optimality. If xb ≥ 0 and zn ≥ 0, stop. The current \n",
        "#@markdown solution is optimal.\n",
        "        if False not in (self.xb >= 0) and False not in (self.zn <= 0):\n",
        "            print(\"Optimal — the problem was trivial\")\n",
        "            sol = np.zeros(len(self.c))\n",
        "            sol[self.B] = self.xb\n",
        "\n",
        "            return {\n",
        "                'status': self.status,\n",
        "                \"iter\": self.count,\n",
        "                \"objective\": self.objective,\n",
        "                \"sol\": sol\n",
        "            }\n",
        "\n",
        "#@markdown - Since xb ≥ 0, the initial solution is **Primal feasible**, and hence  \n",
        "#@markdown we can apply the simplex method without needing any Phase I procedure.\n",
        "        elif False not in (self.xb >= 0) and False in (self.zn <= 0):\n",
        "            print(\"primal feasible\")\n",
        "            print(\"run primal simplex method\")\n",
        "            result = self.primal_simplex(verbor=verbor)\n",
        "\n",
        "#@markdown - Since xb ≥ 0, the initial solution is **Dual feasible**\n",
        "        elif False in (self.xb >= 0) and False not in (self.zn <= 0):\n",
        "            print(\"run dual simplex method\")\n",
        "            result = self.solve_two_phase(verbor=verbor)\n",
        "\n",
        "#@markdown - Where both xb and cn have components of the wrong sign.\n",
        "#@markdown In this case, we must employ a **two-phase procedure**.\n",
        "        else:\n",
        "            print(\"dual feasible\")\n",
        "            print(\"Start convert negative components\")\n",
        "            # self.zn = np.maximum(self.zn, -self.zn)\n",
        "            # self.zn = np.maximum(self.zn, 0)\n",
        "\n",
        "            print(\"run two phase simplex method\")\n",
        "            result = self.solve_two_phase(verbor=verbor)\n",
        "\n",
        "        return result\n",
        "\n",
        "    def solve_two_phase(self, verbor=False):\n",
        "#@markdown - In Phase I apply the dual simplex method to find an optimal solution \n",
        "#@markdown of this modified problem Phase I is most likely not optimal, but it \n",
        "#@markdown is feasible, and therefore the primal simplex method can be used to \n",
        "#@markdown find the optimal solution to the original problem.\n",
        "        print(\"Phase one\")\n",
        "        result = self.dual_simplex(verbor=verbor)\n",
        "\n",
        "        if result['status'] == 'Infeasible':\n",
        "            return result\n",
        "\n",
        "        print(\"Phase two\")\n",
        "        result = self.primal_simplex(verbor=verbor)\n",
        "\n",
        "        return result\n",
        "\n",
        "    def primal_simplex(self, verbor=False):\n",
        "        objective = -np.inf\n",
        "        count = 0\n",
        "        Bi = self.A[:, self.B].reshape((-1, len(self.B)))\n",
        "        N = self.A[:, self.n].reshape((-1, len(self.n)))\n",
        "\n",
        "        if verbor:\n",
        "            A_hat = np.concatenate([self.B.T, self.xb.T, N.T, Bi.T]).T\n",
        "            print(\"Objective\\n\", np.concatenate([self.zn, self.xb]).T)\n",
        "            print(\"Dictionary\\n\", A_hat)\n",
        "\n",
        "        while(np.min(self.zn) < 0):\n",
        "\n",
        "            j = np.argmin(self.zn)\n",
        "            ej = np.zeros((1, len(self.zn))).T\n",
        "            ej[j] = 1\n",
        "\n",
        "            delta_xb = np.linalg.inv(Bi).dot(N).dot(ej)\n",
        "\n",
        "            t = np.max(delta_xb/self.xb)**-1\n",
        "\n",
        "            if t < 0 or t == np.inf:\n",
        "                self.status = 'Unbounded'\n",
        "                sol = np.zeros(len(self.c))\n",
        "                sol[self.B] = self.xb\n",
        "                return {\n",
        "                    'status': self.status,\n",
        "                    \"iter\": self.count,\n",
        "                    \"objective\": self.objective,\n",
        "                    \"sol\": sol\n",
        "                }\n",
        "\n",
        "            i = np.argmax(delta_xb/self.xb)\n",
        "            ei = np.zeros((1, len(self.xb))).T\n",
        "            ei[i] = 1\n",
        "\n",
        "            delta_zn = -(np.linalg.inv(Bi).dot(N)).T.dot(ei)\n",
        "            s = self.zn[j]/delta_zn[j]\n",
        "\n",
        "            self.xb = self.xb - t*delta_xb\n",
        "            self.zn = self.zn - s*delta_zn\n",
        "\n",
        "            self.xb[i] = t\n",
        "            self.zn[j] = s\n",
        "\n",
        "            # pivot swap\n",
        "            pivot = self.B[i].copy()\n",
        "            self.B[i] = self.n[j].copy()\n",
        "            self.n[j] = pivot\n",
        "\n",
        "            Bi = self.A[:, self.B].reshape((-1, len(self.B)))\n",
        "            N = self.A[:, self.n].reshape((-1, len(self.n)))\n",
        "\n",
        "            count += 1\n",
        "            self.count += 1\n",
        "            self.objective = self.xb.T.dot(self.c[self.B]).reshape(-1)[0]\n",
        "\n",
        "            if verbor:\n",
        "                A_hat = np.concatenate([self.B.T, self.xb.T, N.T, Bi.T]).T\n",
        "                print(\"iter:\", count)\n",
        "                print(\"Dictionary\\n\", A_hat)\n",
        "                print(\"objective:\", self.objective)\n",
        "\n",
        "            if self.objective > objective:\n",
        "                objective = self.objective\n",
        "            else:\n",
        "                self.status = 'Infeasible'\n",
        "                sol = np.zeros(len(self.c))\n",
        "                sol[self.B] = self.xb\n",
        "                return {\n",
        "                    'status': self.status,\n",
        "                    \"iter\": self.count,\n",
        "                    \"objective\": self.objective,\n",
        "                    \"sol\": sol\n",
        "                }\n",
        "\n",
        "        sol = np.zeros(len(self.c))\n",
        "        sol[self.B] = self.xb\n",
        "\n",
        "        return {\n",
        "            'status': self.status,\n",
        "            \"iter\": self.count,\n",
        "            \"optimal\": self.objective,\n",
        "            \"sol\": sol\n",
        "        }\n",
        "\n",
        "    def dual_simplex(self, verbor=False):\n",
        "\n",
        "        objective = np.inf\n",
        "        count = 0\n",
        "        Bi = self.A[:, self.B].reshape((-1, len(self.B)))\n",
        "        N = self.A[:, self.n].reshape((-1, len(self.n)))\n",
        "\n",
        "        if verbor:\n",
        "            A_hat = np.concatenate([self.B.T, self.xb.T, N.T, Bi.T]).T\n",
        "            print(\"Objective\\n\", np.concatenate([self.zn, self.xb]).T)\n",
        "            print(\"Dictionary\\n\", A_hat)\n",
        "\n",
        "        while(np.min(self.xb) < 0):\n",
        "            i = np.argmin(self.xb)\n",
        "            ei = np.zeros((1, len(self.xb))).T\n",
        "            ei[i] = 1\n",
        "\n",
        "            delta_zn = -(np.linalg.inv(Bi).dot(N)).T.dot(ei)\n",
        "\n",
        "            s = np.max(delta_zn/self.zn)**-1\n",
        "\n",
        "            j = np.argmax(delta_zn/self.zn)\n",
        "            ej = np.zeros((1, len(self.zn))).T\n",
        "            ej[j] = 1\n",
        "\n",
        "            delta_xb = np.linalg.inv(Bi).dot(N).dot(ej)\n",
        "\n",
        "            t = self.xb[i]/delta_xb[i]\n",
        "\n",
        "            self.xb = self.xb - t*delta_xb\n",
        "            self.zn = self.zn - s*delta_zn\n",
        "\n",
        "            self.xb[i] = t\n",
        "            self.zn[j] = s\n",
        "\n",
        "            # pivot\n",
        "            pivot = self.B[i].copy()\n",
        "            self.B[i] = self.n[j].copy()\n",
        "            self.n[j] = pivot\n",
        "\n",
        "            Bi = self.A[:, self.B].reshape((-1, len(self.B)))\n",
        "            N = self.A[:, self.n].reshape((-1, len(self.n)))\n",
        "\n",
        "            A_hat = np.concatenate([self.B.T, self.xb.T, N.T, Bi.T]).T\n",
        "\n",
        "            count += 1\n",
        "            self.count += 1\n",
        "            self.objective = self.xb.T.dot(self.c[self.B]).reshape(-1)[0]\n",
        "\n",
        "            if verbor:\n",
        "                A_hat = np.concatenate([self.B.T, self.xb.T, N.T, Bi.T]).T\n",
        "                print(\"iter:\", count)\n",
        "                print(\"Dictionary\\n\", A_hat)\n",
        "                print(\"objective:\", self.objective)\n",
        "\n",
        "            if self.objective < objective:\n",
        "                objective = self.objective\n",
        "            else:\n",
        "                self.status = 'Infeasible'\n",
        "                sol = np.zeros(len(self.c))\n",
        "                sol[self.B] = self.xb\n",
        "                return {\n",
        "                    'status': self.status,\n",
        "                    \"iter\": self.count,\n",
        "                    \"objective\": self.objective,\n",
        "                    \"sol\": sol\n",
        "                }\n",
        "\n",
        "        sol = np.zeros(len(self.c))\n",
        "        sol[self.B] = self.xb\n",
        "\n",
        "        return {\n",
        "            'status': self.status,\n",
        "            \"iter\": self.count,\n",
        "            \"objective\": self.objective,\n",
        "            \"sol\": sol\n",
        "        }"
      ],
      "execution_count": null,
      "outputs": []
    },
    {
      "cell_type": "code",
      "metadata": {
        "id": "baB858WVD1tu",
        "colab_type": "code",
        "colab": {
          "base_uri": "https://localhost:8080/",
          "height": 34
        },
        "outputId": "4b5138cf-8462-4627-e730-71988154cf45"
      },
      "source": [
        "print(\"Exercise 2.3\")\n",
        "# A will contain the coefficients of the constraints\n",
        "A = np.array([[-1, -1, -1, 1, 0],\n",
        "              [2, -1,  1, 0, 1]])\n",
        "\n",
        "# b will contain the amount of resources\n",
        "b = np.array([-2, 1])\n",
        "\n",
        "# c will contain coefficients of objective function Z\n",
        "c = np.array([2, -6, 0, 0, 0])"
      ],
      "execution_count": null,
      "outputs": [
        {
          "output_type": "stream",
          "text": [
            "Exercise 2.3\n"
          ],
          "name": "stdout"
        }
      ]
    },
    {
      "cell_type": "code",
      "metadata": {
        "id": "gMSRX_6_D3iC",
        "colab_type": "code",
        "colab": {
          "base_uri": "https://localhost:8080/",
          "height": 578
        },
        "outputId": "59f1db14-2c3d-4d96-83d5-a27a2239bfae"
      },
      "source": [
        "simplex = Simplex_method(A, b, c)\n",
        "\n",
        "print(simplex.solve(verbor=True))"
      ],
      "execution_count": null,
      "outputs": [
        {
          "output_type": "stream",
          "text": [
            "dual feasible\n",
            "Start convert negative components\n",
            "run two phase simplex method\n",
            "Phase one\n",
            "Objective\n",
            " [[-2  6  0 -2  1]]\n",
            "Dictionary\n",
            " [[ 3 -2 -1 -1 -1  1  0]\n",
            " [ 4  1  2 -1  1  0  1]]\n",
            "iter: 1\n",
            "Dictionary\n",
            " [[ 2.  2. -1. -1.  1. -1.  0.]\n",
            " [ 4. -1.  2. -1.  0.  1.  1.]]\n",
            "objective: 0.0\n",
            "iter: 2\n",
            "Dictionary\n",
            " [[ 2.  3.  0. -1.  1. -1. -1.]\n",
            " [ 0. -1.  1. -1.  0.  1.  2.]]\n",
            "objective: -2.0\n",
            "iter: 3\n",
            "Dictionary\n",
            " [[ 2.   1.5  0.  -1.   1.  -1.  -1. ]\n",
            " [ 1.   0.5  1.   2.   0.   1.  -1. ]]\n",
            "objective: -3.0\n",
            "Phase two\n",
            "Objective\n",
            " [[3.  1.  3.  1.5 0.5]]\n",
            "Dictionary\n",
            " [[ 2.   1.5  0.  -1.   1.  -1.  -1. ]\n",
            " [ 1.   0.5  1.   2.   0.   1.  -1. ]]\n",
            "{'status': 'Optimal', 'iter': 3, 'optimal': -3.0, 'sol': array([0. , 0.5, 1.5, 0. , 0. ])}\n"
          ],
          "name": "stdout"
        },
        {
          "output_type": "stream",
          "text": [
            "/usr/local/lib/python3.6/dist-packages/ipykernel_launcher.py:208: RuntimeWarning: divide by zero encountered in true_divide\n",
            "/usr/local/lib/python3.6/dist-packages/ipykernel_launcher.py:210: RuntimeWarning: divide by zero encountered in true_divide\n"
          ],
          "name": "stderr"
        }
      ]
    },
    {
      "cell_type": "markdown",
      "metadata": {
        "id": "DsvltrIswm9f",
        "colab_type": "text"
      },
      "source": [
        "### Solve the genarated LP by a pulp and cplex tool"
      ]
    },
    {
      "cell_type": "markdown",
      "metadata": {
        "id": "RdCbfGGbzk3S",
        "colab_type": "text"
      },
      "source": [
        "#### pulp lib"
      ]
    },
    {
      "cell_type": "markdown",
      "metadata": {
        "id": "rpHV9gyEDwKW",
        "colab_type": "text"
      },
      "source": [
        "Install pulp"
      ]
    },
    {
      "cell_type": "code",
      "metadata": {
        "id": "NEZIBwjC9M-n",
        "colab_type": "code",
        "colab": {
          "base_uri": "https://localhost:8080/",
          "height": 51
        },
        "outputId": "9385edd1-98a7-41b2-c876-4228fe1fe43f"
      },
      "source": [
        "!pip install pulp"
      ],
      "execution_count": null,
      "outputs": [
        {
          "output_type": "stream",
          "text": [
            "Requirement already satisfied: pulp in /usr/local/lib/python3.6/dist-packages (2.1)\n",
            "Requirement already satisfied: pyparsing>=2.0.1 in /usr/local/lib/python3.6/dist-packages (from pulp) (2.4.7)\n"
          ],
          "name": "stdout"
        }
      ]
    },
    {
      "cell_type": "code",
      "metadata": {
        "id": "b9Tvbv_H_Lly",
        "colab_type": "code",
        "colab": {
          "base_uri": "https://localhost:8080/",
          "height": 34
        },
        "outputId": "16a6606a-9eeb-4908-bbdf-6f9687ade36d"
      },
      "source": [
        "print(\"Exercise 2.3\")\n",
        "# A will contain the coefficients of the constraints\n",
        "A = np.array([[-1, -1, -1, 1, 0],\n",
        "              [2, -1,  1, 0, 1]])\n",
        "\n",
        "# b will contain the amount of resources\n",
        "b = np.array([-2, 1])\n",
        "\n",
        "# c will contain coefficients of objective function Z\n",
        "c = np.array([2, -6, 0, 0, 0])"
      ],
      "execution_count": null,
      "outputs": [
        {
          "output_type": "stream",
          "text": [
            "Exercise 2.3\n"
          ],
          "name": "stdout"
        }
      ]
    },
    {
      "cell_type": "code",
      "metadata": {
        "id": "m9zHgEeRwzqw",
        "colab_type": "code",
        "colab": {
          "base_uri": "https://localhost:8080/",
          "height": 272
        },
        "outputId": "4d055c67-56c6-4263-9cb3-ff3015d9d036"
      },
      "source": [
        "import pulp as p\n",
        "\n",
        "# Generate B and N\n",
        "n_contrain = len(A)\n",
        "n_var = len(c) - n_contrain\n",
        "\n",
        "B = np.arange(n_var, n_var + n_contrain)[np.newaxis].T\n",
        "n = np.arange(0, n_var)[np.newaxis].T\n",
        "\n",
        "# Create a LP Minimization problem \n",
        "Lp_prob = p.LpProblem('Problem', p.LpMaximize) \n",
        "\n",
        "# Create problem Variables\n",
        "x = [p.LpVariable(\"x\"+str(i), lowBound = 0) for i in range(1,n_var+1)]\n",
        "\n",
        "# Objective Function \n",
        "objective = 0\n",
        "for i in range(n_var):\n",
        "    objective += c[i]*x[i]\n",
        "\n",
        "Lp_prob += objective \n",
        "\n",
        "# Constraints:\n",
        "for i in range(n_contrain):\n",
        "    contrain = 0\n",
        "    for j in range(n_var):\n",
        "        contrain += A[i,j]*x[j] <= b[i]/n_var\n",
        "    Lp_prob += contrain\n",
        "\n",
        "# Display the problem \n",
        "print(Lp_prob) \n",
        "\n",
        "status = Lp_prob.solve() # Solver \n",
        "print(p.LpStatus[status]) # The solution status \n",
        "\n",
        "# Printing the final solution \n",
        "print(p.value(x[0]), p.value(x[1]), p.value(x[2]), p.value(Lp_prob.objective))"
      ],
      "execution_count": null,
      "outputs": [
        {
          "output_type": "stream",
          "text": [
            "Problem:\n",
            "MAXIMIZE\n",
            "2*x1 + -6*x2 + 0\n",
            "SUBJECT TO\n",
            "_C1: - x1 - x2 - x3 <= -2\n",
            "\n",
            "_C2: 2 x1 - x2 + x3 <= 1\n",
            "\n",
            "VARIABLES\n",
            "x1 Continuous\n",
            "x2 Continuous\n",
            "x3 Continuous\n",
            "\n",
            "Optimal\n",
            "0.0 0.5 1.5 -3.0\n"
          ],
          "name": "stdout"
        }
      ]
    },
    {
      "cell_type": "code",
      "metadata": {
        "id": "07Z_1NMb_ZX3",
        "colab_type": "code",
        "colab": {}
      },
      "source": [
        "import pulp as p\n",
        "def pulp_lib(A, b, c, verbor=False):\n",
        "    # Generate B and N\n",
        "    n_contrain = len(A)\n",
        "    n_var = len(c) - n_contrain\n",
        "\n",
        "    B = np.arange(n_var, n_var + n_contrain)[np.newaxis].T\n",
        "    n = np.arange(0, n_var)[np.newaxis].T\n",
        "\n",
        "    # Create a LP Minimization problem \n",
        "    Lp_prob = p.LpProblem('Problem', p.LpMaximize) \n",
        "\n",
        "    # Create problem Variables\n",
        "    x = [p.LpVariable(\"x\"+str(i), lowBound = 0) for i in range(1,n_var+1)]\n",
        "\n",
        "    # Objective Function \n",
        "    objective = 0\n",
        "    for i in range(n_var):\n",
        "        objective += c[i]*x[i]\n",
        "\n",
        "    Lp_prob += objective \n",
        "\n",
        "    # Constraints:\n",
        "    for i in range(n_contrain):\n",
        "        contrain = 0\n",
        "        for j in range(n_var):\n",
        "            contrain += A[i,j]*x[j] <= b[i]/n_var\n",
        "        Lp_prob += contrain\n",
        "\n",
        "    status = Lp_prob.solve() # Solver \n",
        "    \n",
        "    if verbor:\n",
        "        print(p.LpStatus[status]) # The solution status \n",
        "        # Printing the final solution \n",
        "        print(p.value(Lp_prob.objective))\n",
        "    \n",
        "    return {\n",
        "        'status': p.LpStatus[status],\n",
        "        'objective': p.value(Lp_prob.objective)\n",
        "    }"
      ],
      "execution_count": null,
      "outputs": []
    },
    {
      "cell_type": "markdown",
      "metadata": {
        "id": "S3k5EqG4zn54",
        "colab_type": "text"
      },
      "source": [
        "#### cplex"
      ]
    },
    {
      "cell_type": "code",
      "metadata": {
        "id": "KkPUju_ozq_N",
        "colab_type": "code",
        "colab": {
          "base_uri": "https://localhost:8080/",
          "height": 34
        },
        "outputId": "bd8fd3aa-1509-4374-d489-ad2f9671898c"
      },
      "source": [
        "!pip install cplex"
      ],
      "execution_count": null,
      "outputs": [
        {
          "output_type": "stream",
          "text": [
            "Requirement already satisfied: cplex in /usr/local/lib/python3.6/dist-packages (12.10.0.2)\n"
          ],
          "name": "stdout"
        }
      ]
    },
    {
      "cell_type": "code",
      "metadata": {
        "id": "23HTjCWtztQj",
        "colab_type": "code",
        "colab": {}
      },
      "source": [
        "import cplex\n",
        "def cplex_lib(A, b, c):\n",
        "    # Input all the data and parameters here\n",
        "    num_constraints = len(A)\n",
        "    num_decision_var = len(c) - num_constraints\n",
        "    \n",
        "    n = np.arange(0, num_decision_var)[np.newaxis].T\n",
        "\n",
        "    A = A[:,n.T].reshape(num_constraints, num_decision_var).tolist()\n",
        "    b = b.tolist()\n",
        "    c = c[n].T.reshape(len(n)).tolist()\n",
        "\n",
        "    # constraint_type = [\"L\", \"L\", \"L\"] # Less, Greater, Equal\n",
        "    constraint_type = [\"L\"]*num_constraints\n",
        "    # ============================================================\n",
        "\n",
        "    # Establish the Linear Programming Model\n",
        "    myProblem = cplex.Cplex()\n",
        "\n",
        "    # Add the decision variables and set their lower bound and upper bound (if necessary)\n",
        "    myProblem.variables.add(names= [\"x\"+str(i) for i in range(num_decision_var)])\n",
        "    for i in range(num_decision_var):\n",
        "        myProblem.variables.set_lower_bounds(i, 0.0)\n",
        "\n",
        "    # Add constraints\n",
        "    for i in range(num_constraints):\n",
        "        myProblem.linear_constraints.add(\n",
        "            lin_expr= [cplex.SparsePair(ind= [j for j in range(num_decision_var)], val= A[i])],\n",
        "            rhs= [b[i]],\n",
        "            names = [\"c\"+str(i)],\n",
        "            senses = [constraint_type[i]]\n",
        "        )\n",
        "\n",
        "    # Add objective function and set its sense\n",
        "    for i in range(num_decision_var):\n",
        "        myProblem.objective.set_linear([(i, c[i])])\n",
        "    myProblem.objective.set_sense(myProblem.objective.sense.maximize)\n",
        "\n",
        "    # Solve the model and print the answer\n",
        "    myProblem.solve()\n",
        "    return{\n",
        "        'objective': myProblem.solution.get_objective_value(),\n",
        "        'status': myProblem.solution.get_status_string(),\n",
        "        'sol': myProblem.solution.get_values()\n",
        "    }"
      ],
      "execution_count": null,
      "outputs": []
    },
    {
      "cell_type": "code",
      "metadata": {
        "id": "PYUWB_-dzvTh",
        "colab_type": "code",
        "colab": {
          "base_uri": "https://localhost:8080/",
          "height": 34
        },
        "outputId": "115f6b3b-cd93-4b01-d96a-d62686ec1f9f"
      },
      "source": [
        "print(\"Exercise 2.3\")\n",
        "# A will contain the coefficients of the constraints\n",
        "A = np.array([[-1, -1, -1, 1, 0],\n",
        "              [2, -1,  1, 0, 1]])\n",
        "\n",
        "# b will contain the amount of resources\n",
        "b = np.array([-2, 1])\n",
        "\n",
        "# c will contain coefficients of objective function Z\n",
        "c = np.array([2, -6, 0, 0, 0])"
      ],
      "execution_count": null,
      "outputs": [
        {
          "output_type": "stream",
          "text": [
            "Exercise 2.3\n"
          ],
          "name": "stdout"
        }
      ]
    },
    {
      "cell_type": "code",
      "metadata": {
        "id": "OB9biTJXzzOc",
        "colab_type": "code",
        "colab": {
          "base_uri": "https://localhost:8080/",
          "height": 187
        },
        "outputId": "ffb434cf-cc4e-42ea-982a-52a46428db0f"
      },
      "source": [
        "cplex_lib(A, b, c)"
      ],
      "execution_count": null,
      "outputs": [
        {
          "output_type": "stream",
          "text": [
            "Version identifier: 12.10.0.0 | 2019-11-27 | 843d4de\n",
            "CPXPARAM_Read_DataCheck                          1\n",
            "Tried aggregator 1 time.\n",
            "No LP presolve or aggregator reductions.\n",
            "Presolve time = 0.00 sec. (0.00 ticks)\n",
            "\n",
            "Iteration log . . .\n",
            "Iteration:     1   Dual infeasibility =             0.000000\n",
            "Iteration:     2   Dual objective     =            -2.000000\n"
          ],
          "name": "stdout"
        },
        {
          "output_type": "execute_result",
          "data": {
            "text/plain": [
              "{'objective': -3.0, 'sol': [0.0, 0.5, 1.5], 'status': 'optimal'}"
            ]
          },
          "metadata": {
            "tags": []
          },
          "execution_count": 17
        }
      ]
    },
    {
      "cell_type": "markdown",
      "metadata": {
        "id": "EPBuVJS1wXrt",
        "colab_type": "text"
      },
      "source": [
        "### Repeat (1)-(3) one hundred timnes and compare the mean and standard deviation of running time of your code with those of the chosen tool."
      ]
    },
    {
      "cell_type": "code",
      "metadata": {
        "id": "AXOk7pHRCu9f",
        "colab_type": "code",
        "colab": {}
      },
      "source": [
        "n_sample = 100"
      ],
      "execution_count": null,
      "outputs": []
    },
    {
      "cell_type": "code",
      "metadata": {
        "id": "XvSNTQ9Tv7bj",
        "colab_type": "code",
        "colab": {}
      },
      "source": [
        "np.random.seed(2020)\n",
        "A_list = []\n",
        "b_list = []\n",
        "c_list = []\n",
        "for i in range(n_sample):\n",
        "    n_var = np.random.randint(low=2, high=7)\n",
        "    n_contrain = np.random.randint(low=2, high=7)\n",
        "    A, b, c = gen_problem(n_var, n_contrain)\n",
        "    A_list.append(A)\n",
        "    b_list.append(b)\n",
        "    c_list.append(c)"
      ],
      "execution_count": null,
      "outputs": []
    },
    {
      "cell_type": "code",
      "metadata": {
        "id": "qcFAZPOPBBCq",
        "colab_type": "code",
        "colab": {}
      },
      "source": [
        "from time import time"
      ],
      "execution_count": null,
      "outputs": []
    },
    {
      "cell_type": "code",
      "metadata": {
        "id": "td8Gnum0BNEB",
        "colab_type": "code",
        "colab": {}
      },
      "source": [
        "running_time_pulp = []\n",
        "output_pulp = []\n",
        "for i in range(n_sample):\n",
        "    start = time()\n",
        "    output_pulp.append(pulp_lib(A, b, c, verbor=False))\n",
        "    end = time() - start\n",
        "    running_time_pulp.append(end)"
      ],
      "execution_count": null,
      "outputs": []
    },
    {
      "cell_type": "code",
      "metadata": {
        "id": "Wa6X0Abs239F",
        "colab_type": "code",
        "colab": {}
      },
      "source": [
        "running_time_cplex = []\n",
        "output_cplex = []\n",
        "for i in range(n_sample):\n",
        "    start = time()\n",
        "    output_cplex.append(pulp_lib(A, b, c, verbor=False))\n",
        "    end = time() - start\n",
        "    running_time_cplex.append(end)"
      ],
      "execution_count": null,
      "outputs": []
    },
    {
      "cell_type": "code",
      "metadata": {
        "id": "k1JUwfYgEYh0",
        "colab_type": "code",
        "colab": {
          "base_uri": "https://localhost:8080/",
          "height": 1000
        },
        "outputId": "c825089f-319f-4322-b334-820545724852"
      },
      "source": [
        "running_time_simplex_method = []\n",
        "output_simplex_method= []\n",
        "for i in range(n_sample):\n",
        "    start = time()\n",
        "    simplex = Simplex_method(A, b, c)\n",
        "    output_simplex_method.append(simplex.solve(verbor=False))\n",
        "    end = time() - start\n",
        "    running_time_simplex_method.append(end)"
      ],
      "execution_count": null,
      "outputs": [
        {
          "output_type": "stream",
          "text": [
            "run dual simplex method\n",
            "Phase one\n",
            "run dual simplex method\n",
            "Phase one\n",
            "run dual simplex method\n",
            "Phase one\n",
            "run dual simplex method\n",
            "Phase one\n",
            "run dual simplex method\n",
            "Phase one\n",
            "run dual simplex method\n",
            "Phase one\n",
            "run dual simplex method\n",
            "Phase one\n",
            "run dual simplex method\n",
            "Phase one\n",
            "run dual simplex method\n",
            "Phase one\n",
            "run dual simplex method\n",
            "Phase one\n",
            "run dual simplex method\n",
            "Phase one\n",
            "run dual simplex method\n",
            "Phase one\n",
            "run dual simplex method\n",
            "Phase one\n",
            "run dual simplex method\n",
            "Phase one\n",
            "run dual simplex method\n",
            "Phase one\n",
            "run dual simplex method\n",
            "Phase one\n",
            "run dual simplex method\n",
            "Phase one\n",
            "run dual simplex method\n",
            "Phase one\n",
            "run dual simplex method\n",
            "Phase one\n",
            "run dual simplex method\n",
            "Phase one\n",
            "run dual simplex method\n",
            "Phase one\n",
            "run dual simplex method\n",
            "Phase one\n",
            "run dual simplex method\n",
            "Phase one\n",
            "run dual simplex method\n",
            "Phase one\n",
            "run dual simplex method\n",
            "Phase one\n",
            "run dual simplex method\n",
            "Phase one\n",
            "run dual simplex method\n",
            "Phase one\n",
            "run dual simplex method\n",
            "Phase one\n",
            "run dual simplex method\n",
            "Phase one\n",
            "run dual simplex method\n",
            "Phase one\n",
            "run dual simplex method\n",
            "Phase one\n",
            "run dual simplex method\n",
            "Phase one\n",
            "run dual simplex method\n",
            "Phase one\n",
            "run dual simplex method\n",
            "Phase one\n",
            "run dual simplex method\n",
            "Phase one\n",
            "run dual simplex method\n",
            "Phase one\n",
            "run dual simplex method\n",
            "Phase one\n",
            "run dual simplex method\n",
            "Phase one\n",
            "run dual simplex method\n",
            "Phase one\n",
            "run dual simplex method\n",
            "Phase one\n",
            "run dual simplex method\n",
            "Phase one\n",
            "run dual simplex method\n",
            "Phase one\n",
            "run dual simplex method\n",
            "Phase one\n",
            "run dual simplex method\n",
            "Phase one\n",
            "run dual simplex method\n",
            "Phase one\n",
            "run dual simplex method\n",
            "Phase one\n",
            "run dual simplex method\n",
            "Phase one\n",
            "run dual simplex method\n",
            "Phase one\n",
            "run dual simplex method\n",
            "Phase one\n",
            "run dual simplex method\n",
            "Phase one\n",
            "run dual simplex method\n",
            "Phase one\n",
            "run dual simplex method\n",
            "Phase one\n",
            "run dual simplex method\n",
            "Phase one\n",
            "run dual simplex method\n",
            "Phase one\n",
            "run dual simplex method\n",
            "Phase one\n",
            "run dual simplex method\n",
            "Phase one\n",
            "run dual simplex method\n",
            "Phase one\n",
            "run dual simplex method\n",
            "Phase one\n",
            "run dual simplex method\n",
            "Phase one\n",
            "run dual simplex method\n",
            "Phase one\n",
            "run dual simplex method\n",
            "Phase one\n",
            "run dual simplex method\n",
            "Phase one\n",
            "run dual simplex method\n",
            "Phase one\n",
            "run dual simplex method\n",
            "Phase one\n",
            "run dual simplex method\n",
            "Phase one\n",
            "run dual simplex method\n",
            "Phase one\n",
            "run dual simplex method\n",
            "Phase one\n",
            "run dual simplex method\n",
            "Phase one\n",
            "run dual simplex method\n",
            "Phase one\n",
            "run dual simplex method\n",
            "Phase one\n",
            "run dual simplex method\n",
            "Phase one\n",
            "run dual simplex method\n",
            "Phase one\n",
            "run dual simplex method\n",
            "Phase one\n",
            "run dual simplex method\n",
            "Phase one\n",
            "run dual simplex method\n",
            "Phase one\n",
            "run dual simplex method\n",
            "Phase one\n",
            "run dual simplex method\n",
            "Phase one\n",
            "run dual simplex method\n",
            "Phase one\n",
            "run dual simplex method\n",
            "Phase one\n",
            "run dual simplex method\n",
            "Phase one\n",
            "run dual simplex method\n",
            "Phase one\n",
            "run dual simplex method\n",
            "Phase one\n",
            "run dual simplex method\n",
            "Phase one\n",
            "run dual simplex method\n",
            "Phase one\n",
            "run dual simplex method\n",
            "Phase one\n",
            "run dual simplex method\n",
            "Phase one\n",
            "run dual simplex method\n",
            "Phase one\n",
            "run dual simplex method\n",
            "Phase one\n",
            "run dual simplex method\n",
            "Phase one\n",
            "run dual simplex method\n",
            "Phase one\n",
            "run dual simplex method\n",
            "Phase one\n",
            "run dual simplex method\n",
            "Phase one\n",
            "run dual simplex method\n",
            "Phase one\n",
            "run dual simplex method\n",
            "Phase one\n",
            "run dual simplex method\n",
            "Phase one\n",
            "run dual simplex method\n",
            "Phase one\n",
            "run dual simplex method\n",
            "Phase one\n",
            "run dual simplex method\n",
            "Phase one\n",
            "run dual simplex method\n",
            "Phase one\n",
            "run dual simplex method\n",
            "Phase one\n"
          ],
          "name": "stdout"
        },
        {
          "output_type": "stream",
          "text": [
            "/usr/local/lib/python3.6/dist-packages/ipykernel_launcher.py:208: RuntimeWarning: divide by zero encountered in true_divide\n",
            "/usr/local/lib/python3.6/dist-packages/ipykernel_launcher.py:210: RuntimeWarning: divide by zero encountered in true_divide\n"
          ],
          "name": "stderr"
        }
      ]
    },
    {
      "cell_type": "code",
      "metadata": {
        "id": "k8pEForfEqw0",
        "colab_type": "code",
        "colab": {
          "base_uri": "https://localhost:8080/",
          "height": 51
        },
        "outputId": "127071a9-ba9f-443e-eb8d-0b774742ab39"
      },
      "source": [
        "#@title Compare pulp and Simplex method\n",
        "\n",
        "# Simplex method\n",
        "mean_Simplex_method = np.mean(running_time_simplex_method)\n",
        "std_Simplex_method = np.std(running_time_simplex_method)\n",
        "\n",
        "# pulp\n",
        "mean_pulp = np.mean(running_time_pulp)\n",
        "std_pulp = np.std(running_time_pulp)\n",
        "\n",
        "# cplex\n",
        "mean_cplex = np.mean(running_time_cplex)\n",
        "std_cplex = np.std(running_time_cplex)\n",
        "\n",
        "print(\"mean running time of pulp - simplex_method (s):\", mean_pulp - mean_Simplex_method)\n",
        "print(\"standard deviation running time of pulp - simplex_method (s):\", std_pulp - std_Simplex_method)"
      ],
      "execution_count": null,
      "outputs": [
        {
          "output_type": "stream",
          "text": [
            "mean running time of pulp - simplex_method (s): 0.008444607257843018\n",
            "standard deviation running time of pulp - simplex_method (s): 0.00010279611569166919\n"
          ],
          "name": "stdout"
        }
      ]
    },
    {
      "cell_type": "code",
      "metadata": {
        "id": "JYcQMJv3DHoQ",
        "colab_type": "code",
        "colab": {}
      },
      "source": [
        "import seaborn as sns; sns.set()\n",
        "import matplotlib.pyplot as plt"
      ],
      "execution_count": null,
      "outputs": []
    },
    {
      "cell_type": "code",
      "metadata": {
        "id": "aYCYfhNr30Jq",
        "colab_type": "code",
        "colab": {
          "base_uri": "https://localhost:8080/",
          "height": 301
        },
        "outputId": "b9c054a1-d556-47f3-e8b6-2074026aabcd"
      },
      "source": [
        "mean = np.array([mean_Simplex_method, mean_pulp, mean_cplex])[np.newaxis]\n",
        "ax = sns.heatmap(mean, annot=True)\n",
        "plt.title(\"Compare mean\")\n",
        "ax.set_xticklabels(['code','pulp','cplex'])"
      ],
      "execution_count": null,
      "outputs": [
        {
          "output_type": "execute_result",
          "data": {
            "text/plain": [
              "[Text(0.5, 0, 'code'), Text(1.5, 0, 'pulp'), Text(2.5, 0, 'cplex')]"
            ]
          },
          "metadata": {
            "tags": []
          },
          "execution_count": 61
        },
        {
          "output_type": "display_data",
          "data": {
            "image/png": "[encoded data removed]",
            "text/plain": [
              "<Figure size 432x288 with 2 Axes>"
            ]
          },
          "metadata": {
            "tags": []
          }
        }
      ]
    },
    {
      "cell_type": "code",
      "metadata": {
        "id": "Lm47EpCm336J",
        "colab_type": "code",
        "colab": {
          "base_uri": "https://localhost:8080/",
          "height": 301
        },
        "outputId": "13213ffe-9cf6-4bb9-9f3a-125289052c62"
      },
      "source": [
        "std = np.array([std_Simplex_method, std_pulp, std_cplex])[np.newaxis]\n",
        "ax = sns.heatmap(std, annot=True)\n",
        "plt.title(\"Compare standard deviation\")\n",
        "ax.set_xticklabels(['code','pulp','cplex'])"
      ],
      "execution_count": null,
      "outputs": [
        {
          "output_type": "execute_result",
          "data": {
            "text/plain": [
              "[Text(0.5, 0, 'code'), Text(1.5, 0, 'pulp'), Text(2.5, 0, 'cplex')]"
            ]
          },
          "metadata": {
            "tags": []
          },
          "execution_count": 62
        },
        {
          "output_type": "display_data",
          "data": {
            "image/png": "[encoded data removed]",
            "text/plain": [
              "<Figure size 432x288 with 2 Axes>"
            ]
          },
          "metadata": {
            "tags": []
          }
        }
      ]
    },
    {
      "cell_type": "code",
      "metadata": {
        "id": "4x5zxluL4Hhl",
        "colab_type": "code",
        "colab": {}
      },
      "source": [
        ""
      ],
      "execution_count": null,
      "outputs": []
    }
  ]
}